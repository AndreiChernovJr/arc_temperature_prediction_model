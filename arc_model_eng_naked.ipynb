{
 "cells": [
  {
   "cell_type": "markdown",
   "id": "f0ec0fc4",
   "metadata": {},
   "source": [
    "# Imports"
   ]
  },
  {
   "cell_type": "code",
   "execution_count": 1,
   "id": "3dfb0576",
   "metadata": {},
   "outputs": [],
   "source": [
    "import pandas as pd\n",
    "import numpy as np\n",
    "import matplotlib.pyplot as plt\n",
    "import seaborn as sns"
   ]
  },
  {
   "cell_type": "code",
   "execution_count": null,
   "id": "4ef57bef",
   "metadata": {},
   "outputs": [],
   "source": [
    "from tqdm import tqdm\n",
    "from tqdm import notebook\n",
    "\n",
    "from sklearn.linear_model import LinearRegression\n",
    "from sklearn.model_selection import cross_val_score\n",
    "from sklearn.model_selection import cross_val_predict\n",
    "from sklearn.model_selection import train_test_split\n",
    "from sklearn.model_selection import RandomizedSearchCV\n",
    "from sklearn.tree import DecisionTreeRegressor\n",
    "from sklearn.ensemble import RandomForestRegressor\n",
    "from sklearn.ensemble import GradientBoostingRegressor\n",
    "from sklearn.pipeline import make_pipeline\n",
    "from sklearn.preprocessing import StandardScaler\n",
    "from sklearn.metrics import mean_squared_error\n",
    "from sklearn.metrics import mean_absolute_error\n",
    "\n",
    "import lightgbm as lgb\n",
    "\n",
    "import time"
   ]
  },
  {
   "cell_type": "code",
   "execution_count": null,
   "id": "853105c3",
   "metadata": {},
   "outputs": [],
   "source": [
    "RANDOM_STATE = 220523"
   ]
  },
  {
   "cell_type": "markdown",
   "id": "24d9d6d2",
   "metadata": {},
   "source": [
    "# Getting acquainted with the data"
   ]
  },
  {
   "cell_type": "code",
   "execution_count": null,
   "id": "09e8f6f8",
   "metadata": {},
   "outputs": [],
   "source": [
    "try:\n",
    "    arc = pd.read_csv('/Users/BrightFuture/Desktop/Projects/Final project industry/data/data_arc_new.csv')\n",
    "except FileNotFoundError:\n",
    "    print('Error: File not found. Please provide the correct file path.')"
   ]
  },
  {
   "cell_type": "code",
   "execution_count": null,
   "id": "304fb8d6",
   "metadata": {},
   "outputs": [],
   "source": [
    "try:\n",
    "    arc = pd.read_csv('/datasets/data_arc_new.csv')\n",
    "    bulk = pd.read_csv('/datasets/data_bulk_new.csv')\n",
    "    bulk_time = pd.read_csv('/datasets/data_bulk_time_new.csv')\n",
    "    gas = pd.read_csv('/datasets/data_gas_new.csv')\n",
    "    temp = pd.read_csv('/datasets/data_temp_new.csv')\n",
    "    wire = pd.read_csv('/datasets/data_wire_new.csv')\n",
    "    wire_time = pd.read_csv('/datasets/data_wire_time_new.csv')\n",
    "except FileNotFoundError:\n",
    "    print('Error: Files not found. Please provide the correct file path.')"
   ]
  },
  {
   "cell_type": "code",
   "execution_count": null,
   "id": "83ed5ab0",
   "metadata": {},
   "outputs": [],
   "source": [
    "display(arc)"
   ]
  },
  {
   "cell_type": "code",
   "execution_count": null,
   "id": "b5a428ba",
   "metadata": {},
   "outputs": [],
   "source": [
    "arc[columns] = ['key', 'heat-start', 'heat_end', 'active_power', 'reactive_power']"
   ]
  },
  {
   "cell_type": "code",
   "execution_count": null,
   "id": "a0ea6dcc",
   "metadata": {},
   "outputs": [],
   "source": [
    "try:\n",
    "    bulk = pd.read_csv('/Users/BrightFuture/Desktop/Projects/Final project industry/data/data_bulk_new.csv')\n",
    "except FileNotFoundError:\n",
    "    print('Error: File not found. Please provide the correct file path.')"
   ]
  },
  {
   "cell_type": "code",
   "execution_count": null,
   "id": "5bf1044e",
   "metadata": {},
   "outputs": [],
   "source": [
    "display(bulk)"
   ]
  },
  {
   "cell_type": "code",
   "execution_count": null,
   "id": "47ed51fb",
   "metadata": {},
   "outputs": [],
   "source": [
    "bulk.hist(figsize=(12,12))"
   ]
  },
  {
   "cell_type": "markdown",
   "id": "75b30fe2",
   "metadata": {},
   "source": [
    "Вот где пока ничего не понятно. В контексте сталелитейного завода термин «bulk» может относиться к материалам или веществам, которые транспортируются или обрабатываются в больших количествах, из чего можно сделать предположение, что у нас в произведстве участвуют 15 различных элементов, которые поэтапоно (хотя насчет порядка не уверен) добавляются нашу расплавленную смесь, чтобы получить итоговый продукт. \n",
    "\n",
    "Какие продукты там добавляются мы не знаем. \n",
    "\n",
    "Также мы не знаем, что предстваляют собой объекты. Если в прошлой таблице это были нагревательные сессии, то сейчас я не имею исчерпывающего понимания. Следует расспросить про эту таблицу на встрече с заказчиком. "
   ]
  },
  {
   "cell_type": "markdown",
   "id": "80bb2b0c",
   "metadata": {},
   "source": [
    "UPd. С объектами теперь стало понятно - это произведенные партии."
   ]
  },
  {
   "cell_type": "markdown",
   "id": "ae7e1206",
   "metadata": {},
   "source": [
    "Если обратить внимание на гистограммы, то можно порадоваться, что они есть;)) \n",
    "\n",
    "А если без шуток, то мы элементарно узнаем, что какие-то присадки добавляются чаще, какие-то реже, каких-то нужно больше, каких-то меньше? Зачем оно нам? А чтобы понять, что нам это не важно и ничего необычного тут нет. Тем более нам даже названия присадок не дают, так что мы просто обработаем эти данные и добавим в котел нашей модели. И под обработаем я имею в виду всего лишь \"удалим неактуальные партии\"."
   ]
  },
  {
   "cell_type": "code",
   "execution_count": null,
   "id": "31cea841",
   "metadata": {},
   "outputs": [],
   "source": [
    "try:\n",
    "    bulk_time = pd.read_csv('/Users/BrightFuture/Desktop/Projects/Final project industry/data/data_bulk_time_new.csv')\n",
    "except FileNotFoundError:\n",
    "    print('Error: File not found. Please provide the correct file path.')"
   ]
  },
  {
   "cell_type": "code",
   "execution_count": null,
   "id": "8fccbe2b",
   "metadata": {},
   "outputs": [],
   "source": [
    "display(bulk_time)"
   ]
  },
  {
   "cell_type": "code",
   "execution_count": null,
   "id": "0132d07b",
   "metadata": {},
   "outputs": [],
   "source": [
    "#bulk_time.info()"
   ]
  },
  {
   "cell_type": "code",
   "execution_count": null,
   "id": "819fd53d",
   "metadata": {},
   "outputs": [],
   "source": [
    "bulk_columns = ['Bulk 1', 'Bulk 2', 'Bulk 3', 'Bulk 4', 'Bulk 5', 'Bulk 6', 'Bulk 7', 'Bulk 8', 'Bulk 9',\n",
    "                'Bulk 10', 'Bulk 11', 'Bulk 12', 'Bulk 13', 'Bulk 14', 'Bulk 15']"
   ]
  },
  {
   "cell_type": "markdown",
   "id": "6ad99ae6",
   "metadata": {},
   "source": [
    "оК. Есть понимание, что эти 2 таблицы связаны. Получается, в таблице bulk количество, а в bulk_time время каждого добавления каждого элемента. Я был прав, что порядок не определен, но по идее это и не важно. Что еще примечательно, у нас есть таймлайн, по которому можно понять, что каждому \"балку\" предшествует нагревание.  "
   ]
  },
  {
   "cell_type": "markdown",
   "id": "3438bff6",
   "metadata": {},
   "source": [
    "Upd. Судя по описанию, скорее всего, это легирующие добавки.  При чем не все, а те, которые подаются их бункера для сыпучих материалов. "
   ]
  },
  {
   "cell_type": "markdown",
   "id": "d1b852c8",
   "metadata": {},
   "source": [
    "Пока что в голову приходит только одна идея - сделать какую-то таблицу с общим таймлайном, где будут как нагревания, так и добавления элементов. Зачем  она нужна? я пока не знаю, но лучше такая идея, чем никакой. "
   ]
  },
  {
   "cell_type": "code",
   "execution_count": null,
   "id": "a6142920",
   "metadata": {},
   "outputs": [],
   "source": [
    "try:\n",
    "    gas = pd.read_csv('/Users/BrightFuture/Desktop/Projects/Final project industry/data/data_gas_new.csv')\n",
    "except FileNotFoundError:\n",
    "    print('Error: File not found. Please provide the correct file path.')"
   ]
  },
  {
   "cell_type": "code",
   "execution_count": null,
   "id": "6c370233",
   "metadata": {},
   "outputs": [],
   "source": [
    "display(gas)"
   ]
  },
  {
   "cell_type": "code",
   "execution_count": null,
   "id": "56d0d4a4",
   "metadata": {},
   "outputs": [],
   "source": [
    "plt.figure(figsize=(8, 6))\n",
    "plt.hist(gas['Газ 1'], bins=20, color='skyblue', edgecolor='black', alpha=0.7)\n",
    "\n",
    "plt.xlabel('Количество')\n",
    "plt.ylabel('Частота')\n",
    "plt.title('Обзор количества газа в производстве')\n",
    "plt.grid(True, linestyle='--', alpha=0.5)\n",
    "plt.show()"
   ]
  },
  {
   "cell_type": "markdown",
   "id": "a0b8cbc9",
   "metadata": {},
   "source": [
    "Пока снова ничего не понятно, но хорошая новость в том, что количество объектов такое же, как и в двух предыдущих таблицах, так что можем предположить, что это количество газа, требуемое для выработки энергии. Или, может, это какой-то катализатор?  "
   ]
  },
  {
   "cell_type": "markdown",
   "id": "5c4364c3",
   "metadata": {},
   "source": [
    "Оказалось, что газ-это катализатор, используемый для смешивания. Из гистограммы можем узнать, что в среднем используемо количество газа будет 10, медиана, наверняка, такая же. Кроме того мы можем увидеть наличие выбросов. Будем держать его в уме, но ближе их изучим (и при необходимости избавимся), возможно, уже после объединения таблиц. "
   ]
  },
  {
   "cell_type": "markdown",
   "id": "96e8312a",
   "metadata": {},
   "source": [
    "В теории мы можем проверить - посчитать корреляцию по ключам количества газа и суммарного расхода мощности, чтобы это проверить. Но для начала продолжим изучать таблицы, а сюда вернемся позже. "
   ]
  },
  {
   "cell_type": "code",
   "execution_count": null,
   "id": "dad99128",
   "metadata": {},
   "outputs": [],
   "source": [
    "try:\n",
    "    temp = pd.read_csv('/Users/BrightFuture/Desktop/Projects/Final project industry/data/data_temp_new.csv')\n",
    "except FileNotFoundError:\n",
    "    print('Error: File not found. Please provide the correct file path.')"
   ]
  },
  {
   "cell_type": "code",
   "execution_count": null,
   "id": "c620fb3a",
   "metadata": {},
   "outputs": [],
   "source": [
    "display(temp)"
   ]
  },
  {
   "cell_type": "markdown",
   "id": "ebcf0da5",
   "metadata": {},
   "source": [
    "Визуально есть ощущение, что температуру замеряют перед каждым нагреванием, но не сразу после него/ в процессе. То есть если я правильно понимаю, греют они примерно на глаз. Интерсно, а как они определяют, сколько надо греть и/или до какой температуры?  "
   ]
  },
  {
   "cell_type": "markdown",
   "id": "fe7a3da1",
   "metadata": {},
   "source": [
    "Вообще, если честно, я не особо верю, что за 5 минут рабочие способны взять пробы и провести полный химический анализ. Похоже, нам немного преукрашивают ситуацию. "
   ]
  },
  {
   "cell_type": "code",
   "execution_count": null,
   "id": "8ec4850f",
   "metadata": {},
   "outputs": [],
   "source": [
    "try:\n",
    "    wire = pd.read_csv('/Users/BrightFuture/Desktop/Projects/Final project industry/data/data_wire_new.csv')\n",
    "except FileNotFoundError:\n",
    "    print('Error: File not found. Please provide the correct file path.')"
   ]
  },
  {
   "cell_type": "code",
   "execution_count": null,
   "id": "f6a6c5f5",
   "metadata": {},
   "outputs": [],
   "source": [
    "display(wire)"
   ]
  },
  {
   "cell_type": "code",
   "execution_count": null,
   "id": "33ab87b2",
   "metadata": {},
   "outputs": [],
   "source": [
    "wire.hist(figsize=(12,12))"
   ]
  },
  {
   "cell_type": "markdown",
   "id": "ef95f1a7",
   "metadata": {},
   "source": [
    "И снова нам тут особо ничего такого, что могло бы помочь в создании модели, не узнать."
   ]
  },
  {
   "cell_type": "code",
   "execution_count": null,
   "id": "cc977461",
   "metadata": {},
   "outputs": [],
   "source": [
    "try:\n",
    "    wire_time = pd.read_csv('/Users/BrightFuture/Desktop/Projects/Final project industry/data/data_wire_time_new.csv')\n",
    "except FileNotFoundError:\n",
    "    print('Error: File not found. Please provide the correct file path.')"
   ]
  },
  {
   "cell_type": "code",
   "execution_count": null,
   "id": "a9d5d92d",
   "metadata": {},
   "outputs": [],
   "source": [
    "display(wire_time)"
   ]
  },
  {
   "cell_type": "markdown",
   "id": "ef4c7183",
   "metadata": {},
   "source": [
    "Я не до конца понимаю технологический процесс влияния проволоки, и не готов сейчас слишком глубоко туда погружаться. На самом деле мне досататочно того, что применений действительно много и того, что я уверен, что мой алгоритм сам посчитает все достаточно точно и отберет наиболее важные параметры. "
   ]
  },
  {
   "cell_type": "markdown",
   "id": "60243435",
   "metadata": {},
   "source": [
    "Что бы я отметил - так это тот факт, что объектов меньше,чем ключей, так что не для кажого продукта нужна проволока, в отличие от легирующих добавок. "
   ]
  },
  {
   "cell_type": "code",
   "execution_count": null,
   "id": "f9d4f171",
   "metadata": {},
   "outputs": [],
   "source": [
    "print(arc[arc['key']==269])\n",
    "print(temp[temp['key']==269])\n",
    "print(gas[gas['key']==269])\n",
    "print(bulk_time[bulk_time['key']==269])\n",
    "print(wire_time[wire_time['key']==269])"
   ]
  },
  {
   "cell_type": "code",
   "execution_count": null,
   "id": "f9591b02",
   "metadata": {},
   "outputs": [],
   "source": [
    "print(arc[arc['key']==270])\n",
    "print(temp[temp['key']==270])\n",
    "print(gas[gas['key']==270])\n",
    "print(bulk_time[bulk_time['key']==270])\n",
    "print(wire_time[wire_time['key']==270])"
   ]
  },
  {
   "cell_type": "markdown",
   "id": "5d46d4ea",
   "metadata": {},
   "source": [
    "# EDA"
   ]
  },
  {
   "cell_type": "markdown",
   "id": "e5eea6cd",
   "metadata": {},
   "source": [
    "Теперь, когда мы посмотрели все таблицы и уже представляем себе структуру данных, можно с ними немного поработать: \n",
    "\n",
    "1)Визуализировать данные и/или рассчитать какие-то аггрегированные показатели.\n",
    "\n",
    "2)Преобразовать, как мы задумывали - вычисления показателей и аггрегированные таблицы, возможно, новые графики"
   ]
  },
  {
   "cell_type": "markdown",
   "id": "838cf452",
   "metadata": {},
   "source": [
    "И есть еще одна маленькая, но важная история, которая нам портит не только модель, но и исследовательский анализ данных. Мы уже знаем, что есть один феноменальный выброс в \"реактивной мощности\" и разобраться с ним надо сразу, пока он не наследил."
   ]
  },
  {
   "cell_type": "code",
   "execution_count": null,
   "id": "a1a06e55",
   "metadata": {
    "scrolled": true
   },
   "outputs": [],
   "source": [
    "print(arc[arc['Реактивная мощность']<0])"
   ]
  },
  {
   "cell_type": "markdown",
   "id": "c5b23067",
   "metadata": {},
   "source": [
    "А вот и наш выброс. Это даже не выброс, а просто ошибка. Она настолько огромна, что уничтожает все корреляции со столюцом 'Реактивная мощность'\n",
    "\n",
    "Думаю, никого не обидит, что я удалю эту партию целиком. Хотя в теории я мог бы рассчитать корреляцию между активной и реактивной мощностью, доказать, что она высокая и потом по коэффициенту рассчитать реактивную мощность для этого конкретного подогрева. "
   ]
  },
  {
   "cell_type": "code",
   "execution_count": null,
   "id": "d30f4590",
   "metadata": {},
   "outputs": [],
   "source": [
    "arc = arc.drop(arc[arc['key']==2116].index)"
   ]
  },
  {
   "cell_type": "code",
   "execution_count": null,
   "id": "3757e76d",
   "metadata": {},
   "outputs": [],
   "source": [
    "print(arc[arc['Реактивная мощность']<0])"
   ]
  },
  {
   "cell_type": "code",
   "execution_count": null,
   "id": "fe3d5a0c",
   "metadata": {},
   "outputs": [],
   "source": [
    "ener = arc[['key','Активная мощность', 'Реактивная мощность']]"
   ]
  },
  {
   "cell_type": "code",
   "execution_count": null,
   "id": "0906051c",
   "metadata": {},
   "outputs": [],
   "source": [
    "print(ener)"
   ]
  },
  {
   "cell_type": "code",
   "execution_count": null,
   "id": "2b5aebbe",
   "metadata": {},
   "outputs": [],
   "source": [
    "ener.describe()"
   ]
  },
  {
   "cell_type": "code",
   "execution_count": null,
   "id": "29bb04d3",
   "metadata": {
    "scrolled": true
   },
   "outputs": [],
   "source": [
    "print(ener[ener['Реактивная мощность']<0])"
   ]
  },
  {
   "cell_type": "code",
   "execution_count": null,
   "id": "6ffc5992",
   "metadata": {},
   "outputs": [],
   "source": [
    "ener = ener.drop(ener[ener['Реактивная мощность']<0].index)"
   ]
  },
  {
   "cell_type": "code",
   "execution_count": null,
   "id": "f3da8486",
   "metadata": {},
   "outputs": [],
   "source": [
    "ener2 = ener.groupby('key')[['Активная мощность', 'Реактивная мощность']].sum()"
   ]
  },
  {
   "cell_type": "code",
   "execution_count": null,
   "id": "7b6d493d",
   "metadata": {},
   "outputs": [],
   "source": [
    "print(ener2)"
   ]
  },
  {
   "cell_type": "code",
   "execution_count": null,
   "id": "56c47940",
   "metadata": {},
   "outputs": [],
   "source": [
    "plt.figure(figsize=(8, 6))\n",
    "plt.plot(ener2.index, ener2['Активная мощность'], color='blue', linewidth=2, label='Активная мощность')\n",
    "plt.plot(ener2.index, ener2['Реактивная мощность'], color='red', linewidth=2, label='Реактивная мощность')\n",
    "plt.xlabel('№ of process')\n",
    "plt.ylabel('Energy consumption')\n",
    "plt.title('Consumption of energy for steel production')\n",
    "plt.grid(True)\n",
    "plt.legend()\n",
    "plt.show()"
   ]
  },
  {
   "cell_type": "markdown",
   "id": "53af270b",
   "metadata": {},
   "source": [
    "Мы видим колебания активной мощности и пока не знаем, чем они вызваны. Я бы проверил корреляцию с затраченным временем на нагрев и с \"Газом\""
   ]
  },
  {
   "cell_type": "markdown",
   "id": "6666237c",
   "metadata": {},
   "source": [
    "Что-то есть, но если бы газ превращался в электричество, думаю, корреляция была бы значительно ближе к 1. Хотя я только что обнаружил различное количество рядов, придется пересчитать"
   ]
  },
  {
   "cell_type": "code",
   "execution_count": null,
   "id": "fccdec71",
   "metadata": {},
   "outputs": [],
   "source": [
    "merged_df = ener2.merge(gas, left_index=True, right_on='key')"
   ]
  },
  {
   "cell_type": "code",
   "execution_count": null,
   "id": "7406e0f9",
   "metadata": {},
   "outputs": [],
   "source": [
    "print(merged_df['Активная мощность'].corr(merged_df['Газ 1']))"
   ]
  },
  {
   "cell_type": "code",
   "execution_count": null,
   "id": "0483a57e",
   "metadata": {},
   "outputs": [],
   "source": [
    "arc2 = arc.copy()"
   ]
  },
  {
   "cell_type": "code",
   "execution_count": null,
   "id": "abe84ddb",
   "metadata": {},
   "outputs": [],
   "source": [
    "arc2['Начало нагрева дугой'] = pd.to_datetime(arc2['Начало нагрева дугой'])"
   ]
  },
  {
   "cell_type": "code",
   "execution_count": null,
   "id": "8bc139b7",
   "metadata": {},
   "outputs": [],
   "source": [
    "arc2['Конец нагрева дугой'] = pd.to_datetime(arc2['Конец нагрева дугой'])"
   ]
  },
  {
   "cell_type": "code",
   "execution_count": null,
   "id": "6b773a7b",
   "metadata": {},
   "outputs": [],
   "source": [
    "arc2.info()"
   ]
  },
  {
   "cell_type": "code",
   "execution_count": null,
   "id": "ddeff646",
   "metadata": {},
   "outputs": [],
   "source": [
    "arc2['time_heated'] = arc2['Конец нагрева дугой']-arc2['Начало нагрева дугой']"
   ]
  },
  {
   "cell_type": "code",
   "execution_count": null,
   "id": "5fbd64c1",
   "metadata": {},
   "outputs": [],
   "source": [
    "arc2['time_heated_sec'] = arc2['time_heated'].dt.total_seconds()"
   ]
  },
  {
   "cell_type": "code",
   "execution_count": null,
   "id": "edb7427c",
   "metadata": {},
   "outputs": [],
   "source": [
    "print(arc2)"
   ]
  },
  {
   "cell_type": "code",
   "execution_count": null,
   "id": "a3f7ab04",
   "metadata": {},
   "outputs": [],
   "source": [
    "print(arc2['Активная мощность'].corr(arc2['time_heated_sec']))"
   ]
  },
  {
   "cell_type": "code",
   "execution_count": null,
   "id": "ed2d17be",
   "metadata": {},
   "outputs": [],
   "source": [
    "arc2['total_power'] = (arc2['Активная мощность']**2 + arc2['Реактивная мощность']**2)**0.5"
   ]
  },
  {
   "cell_type": "code",
   "execution_count": null,
   "id": "8201e5a3",
   "metadata": {},
   "outputs": [],
   "source": [
    "print(arc2['total_power'].corr(arc2['time_heated_sec']))"
   ]
  },
  {
   "cell_type": "code",
   "execution_count": null,
   "id": "7ba9c0fb",
   "metadata": {},
   "outputs": [],
   "source": [
    "print(arc2['Активная мощность'].corr(arc2['Реактивная мощность']))"
   ]
  },
  {
   "cell_type": "markdown",
   "id": "0a417131",
   "metadata": {},
   "source": [
    "Поскольку корреляции между мощностью и временем отсутствует, можно сделать вывод, что мощность представляет расход энергии в единицу времени. Заначит, нам придется считать производный показатель и здесь. Хорошо, что теперь мы это знаем. "
   ]
  },
  {
   "cell_type": "markdown",
   "id": "b63ed151",
   "metadata": {},
   "source": [
    "В выводе хочется отметить, что мы двольно детально изучили данные и теперь полностью понимаем как двигаться дальше и готовы к этому. "
   ]
  },
  {
   "cell_type": "markdown",
   "id": "74d7ae78",
   "metadata": {},
   "source": [
    "Дальнейший план работы:\n",
    "\n",
    "1) Доделать предобработку данных. Убрать все данные, которые не подходят для целей нашего прогнозирования.\n",
    "\n",
    "2) Создание дополнительных параметров. У меня ощущение, что того, что у нас есть на данный момент будет недостаточно. \n",
    "\n",
    "3) Агрегирование всех данных в общую таблицу для созадния модели машинного обучения.\n",
    "\n",
    "4) Создание 3 моделей машинного обучения. Предварительно планируются модель регрессии, модель случайного леса и модель градитентного бустина XGboost, но если в какой-то момент появится желание создать любую другую модель, я не буду отказывать себе в удовольствии. (пока не забыл - я бы попробовал различные виды регуляризации в регрессии, чтобы проверить мое предположение о чрезмерном влиянии энергии затраченной на подогрев на температуру и попробовать выявить и другие важные факторы)\n",
    "\n",
    "5) Выбор лучшей модели по показателю MAE на кросс-валидации. Тестирование модели и вывод."
   ]
  },
  {
   "cell_type": "markdown",
   "id": "7874abba",
   "metadata": {},
   "source": [
    "# Предобработка данных"
   ]
  },
  {
   "cell_type": "markdown",
   "id": "ef89ee98",
   "metadata": {},
   "source": [
    "## Время нагревания"
   ]
  },
  {
   "cell_type": "code",
   "execution_count": null,
   "id": "97c89721",
   "metadata": {},
   "outputs": [],
   "source": [
    "arc2['total_energy'] = arc2['total_power'] * arc2['time_heated_sec']"
   ]
  },
  {
   "cell_type": "code",
   "execution_count": null,
   "id": "fbf2b917",
   "metadata": {},
   "outputs": [],
   "source": [
    "arc_attn = arc2[['key', 'time_heated_sec', 'total_power', 'total_energy']]"
   ]
  },
  {
   "cell_type": "code",
   "execution_count": null,
   "id": "16751f24",
   "metadata": {},
   "outputs": [],
   "source": [
    "arc_grouped = arc_attn.groupby('key')[['time_heated_sec', 'total_power', 'total_energy']].sum()"
   ]
  },
  {
   "cell_type": "code",
   "execution_count": null,
   "id": "a0522902",
   "metadata": {
    "scrolled": true
   },
   "outputs": [],
   "source": [
    "print(arc_grouped)"
   ]
  },
  {
   "cell_type": "markdown",
   "id": "e0ddc9d0",
   "metadata": {},
   "source": [
    "Вот так, я думаю, должна выглядеть финальная таблица признаков, которые можно получить из их информации о нагревании стали."
   ]
  },
  {
   "cell_type": "code",
   "execution_count": null,
   "id": "ee35501a",
   "metadata": {},
   "outputs": [],
   "source": [
    "plt.figure(figsize=(8, 6))\n",
    "plt.hist(arc_grouped['time_heated_sec'], bins=20, color='crimson', edgecolor='black', alpha=0.7)\n",
    "\n",
    "plt.xlabel('Время')\n",
    "plt.ylabel('Частота')\n",
    "plt.title('Обзор Времени нагрева на одну партию')\n",
    "plt.grid(True, linestyle='--', alpha=0.5)\n",
    "plt.show()"
   ]
  },
  {
   "cell_type": "code",
   "execution_count": null,
   "id": "e4f4e20b",
   "metadata": {},
   "outputs": [],
   "source": [
    "arc_grouped['time_heated_sec'].describe()"
   ]
  },
  {
   "cell_type": "code",
   "execution_count": null,
   "id": "e009182a",
   "metadata": {
    "scrolled": true
   },
   "outputs": [],
   "source": [
    "start_times = arc2.groupby('key')['Начало нагрева дугой'].first()\n",
    "end_times = arc2.groupby('key')['Конец нагрева дугой'].last()\n",
    "arc_times = pd.concat([start_times, end_times], axis=1)\n",
    "print(arc_times)"
   ]
  },
  {
   "cell_type": "code",
   "execution_count": null,
   "id": "95f0744c",
   "metadata": {},
   "outputs": [],
   "source": [
    "print(arc_times.info())"
   ]
  },
  {
   "cell_type": "markdown",
   "id": "b4588f6d",
   "metadata": {},
   "source": [
    "## Замеры температуры"
   ]
  },
  {
   "cell_type": "code",
   "execution_count": null,
   "id": "a0b78f31",
   "metadata": {},
   "outputs": [],
   "source": [
    "display(temp)"
   ]
  },
  {
   "cell_type": "code",
   "execution_count": null,
   "id": "a727bbe6",
   "metadata": {
    "scrolled": true
   },
   "outputs": [],
   "source": [
    "temp.info()"
   ]
  },
  {
   "cell_type": "code",
   "execution_count": null,
   "id": "28e7a605",
   "metadata": {
    "scrolled": true
   },
   "outputs": [],
   "source": [
    "temp_nuns = temp[temp['Температура'].isna()]\n",
    "print(temp_nuns['key'].unique())"
   ]
  },
  {
   "cell_type": "markdown",
   "id": "edb97b1e",
   "metadata": {},
   "source": [
    "А нулей у нас тут много... по сути все ключи после 2499 без температуры. Но странно, что общая доля всех пропусков 23%, а общая доля уникальных значений 30%."
   ]
  },
  {
   "cell_type": "code",
   "execution_count": null,
   "id": "4fa7720c",
   "metadata": {},
   "outputs": [],
   "source": [
    "exp = temp[temp['key'].isin(temp_nuns['key'].unique())]\n",
    "print(exp.head(30))"
   ]
  },
  {
   "cell_type": "code",
   "execution_count": null,
   "id": "81679581",
   "metadata": {},
   "outputs": [],
   "source": [
    "counts = exp.groupby('key')['Температура'].count().sort_values(ascending=False)\n",
    "print(counts)"
   ]
  },
  {
   "cell_type": "markdown",
   "id": "5a350ab0",
   "metadata": {},
   "source": [
    "Теперь все стало на свои места. У всех партий, начиная с 2500 есть только одна температура - и это стартовая темпаратура. Идеально было бы, если бы нам дали ее в конце, чтобы мы протестировали данные. А то бить 2499 партий на 3 выборки это больно."
   ]
  },
  {
   "cell_type": "markdown",
   "id": "c7200312",
   "metadata": {},
   "source": [
    "Оказалось, это неизбежно и новых данных не предвидится. Так что пока держим в уме, что все данные партии, которые придется исключить из-за отсутствия целевой температуры, находятся  в temp_nuns['key'].unique()"
   ]
  },
  {
   "cell_type": "code",
   "execution_count": null,
   "id": "cc751995",
   "metadata": {},
   "outputs": [],
   "source": [
    "start_temp = temp.groupby('key')['Температура'].first()\n",
    "end_temp = temp.groupby('key')['Температура'].last()\n",
    "temperatures = pd.concat([start_temp, end_temp], axis=1)\n",
    "temperatures.columns = ['start_temp', 'end_temp']\n",
    "print(temperatures)"
   ]
  },
  {
   "cell_type": "markdown",
   "id": "f8b2031d",
   "metadata": {},
   "source": [
    "Вот в таком виде нам нужны данные для нашей модели.Начальная температура - это важный параметр, а конечная температура - целевой показатель. Осталось только убрать объекты с отсутсвтвующим целевым показателем."
   ]
  },
  {
   "cell_type": "markdown",
   "id": "4dfd8717",
   "metadata": {},
   "source": [
    "Таблицы gas, bulk и wire мы оставим как есть, поскольку они уже представляют собой признаки. "
   ]
  },
  {
   "cell_type": "markdown",
   "id": "edb1abe1",
   "metadata": {},
   "source": [
    "таблицы bulk_time и wire_time мы пока трогать не будем. В теории они нужны, чтобы проверить данные на валидность, однако на данный момент я не буду этим заниматься по 2 причинам:\n",
    "\n",
    "1) я хочу сначала посторить хотя бы одну модель и проверить, насколько у нас все плохо или хорошо, чтобы оценить наши данные. \n",
    "\n",
    "2) я не представляю, как автоматизировать этот процесс. Пока что у меня есть идея только сделать общую таблицу (из arc, bulk_time и wire_timeб temp) и отсортировать ее по таймлану. Но вот как найти ошибки - это уже вопрос. Снова сказываются 50 часов, потраченные на SQl... там есть функция SELECT ROW_NUMBER() OVER () и при помощи нее я бы проранжировал все операции в рамках одной партии (ключа) Но потом бы пришлось еще каким-то образом выяснить, где есть какие-то операции, сделанные позже, чем финальная температура, а вот тут у меня пока идей нет. Буду признательным за подсказку, если эта часть обязательная.\n"
   ]
  },
  {
   "cell_type": "markdown",
   "id": "44627dd8",
   "metadata": {},
   "source": [
    "## Время между замерами"
   ]
  },
  {
   "cell_type": "markdown",
   "id": "10ba9683",
   "metadata": {},
   "source": [
    "Для начала я хочу попробовать создать и проанализировать дополнительный параметр - время между первым и последним замерами температуры. Есть идея (которая принесла нам прмерно 0.2 MAE), что партии обрабатываются с разной скоростью, а некоторые партии вообще простаивают по причнам пересменок, перерывов и т.д."
   ]
  },
  {
   "cell_type": "markdown",
   "id": "328ced69",
   "metadata": {},
   "source": [
    "И если немного развить идею, получится, что чем дольше время между первым и последним замерами, тем больше сталь успеет остыть."
   ]
  },
  {
   "cell_type": "code",
   "execution_count": null,
   "id": "bffdf800",
   "metadata": {},
   "outputs": [],
   "source": [
    "start_temp_time = temp.groupby('key')['Время замера'].first()\n",
    "end_temp_time = temp.groupby('key')['Время замера'].last()\n",
    "temperatures_time = pd.concat([start_temp_time, end_temp_time], axis=1)\n",
    "temperatures_time.columns = ['first_measure', 'last_measure']\n",
    "print(temperatures_time)"
   ]
  },
  {
   "cell_type": "code",
   "execution_count": null,
   "id": "35adb902",
   "metadata": {},
   "outputs": [],
   "source": [
    "temperatures_time['first_measure'] = pd.to_datetime(temperatures_time['first_measure'])\n",
    "temperatures_time['last_measure'] = pd.to_datetime(temperatures_time['last_measure'])"
   ]
  },
  {
   "cell_type": "code",
   "execution_count": null,
   "id": "4fc97943",
   "metadata": {},
   "outputs": [],
   "source": [
    "temperatures_time['total_time'] = temperatures_time['last_measure'] - temperatures_time['first_measure']\n",
    "temperatures_time['total_time'] = temperatures_time['total_time'].dt.total_seconds()"
   ]
  },
  {
   "cell_type": "code",
   "execution_count": null,
   "id": "35b7585a",
   "metadata": {},
   "outputs": [],
   "source": [
    "print(temperatures_time)"
   ]
  },
  {
   "cell_type": "code",
   "execution_count": null,
   "id": "a14bc28e",
   "metadata": {},
   "outputs": [],
   "source": [
    "temperatures_time = temperatures_time.drop(['first_measure', 'last_measure'], axis=1)"
   ]
  },
  {
   "cell_type": "code",
   "execution_count": null,
   "id": "86e74f63",
   "metadata": {},
   "outputs": [],
   "source": [
    "print(temperatures_time)"
   ]
  },
  {
   "cell_type": "code",
   "execution_count": null,
   "id": "25d56d08",
   "metadata": {},
   "outputs": [],
   "source": [
    "plt.figure(figsize=(8, 6))\n",
    "plt.hist(temperatures_time, bins=20, color='limegreen', edgecolor='black', alpha=0.7)\n",
    "\n",
    "plt.xlabel('Время')\n",
    "plt.ylabel('Частота')\n",
    "plt.title('Обзор Времени затрачиваемого на одну партию')\n",
    "plt.grid(True, linestyle='--', alpha=0.5)\n",
    "plt.show()"
   ]
  },
  {
   "cell_type": "markdown",
   "id": "9af21dd9",
   "metadata": {},
   "source": [
    "Ну вот и получается, что среднее время нагревания у нас около 1000 секунд (15 мин), среднее время производтва около 2000 секунд (30 мин), при этом есть продукты, которые 6 часов \"в производтве\" а по факту, навернякак ночуют... Да и трехчасовые тоже присутствуют. В общем, параметр сильный, не зря он нам так сильно снизил MAE."
   ]
  },
  {
   "cell_type": "markdown",
   "id": "ebdd6d96",
   "metadata": {},
   "source": [
    "Прикол в том, что  хоть показателей температуры и нет в таблице, время замеров есть. Нам это не помешает, потму что у нас невалидные данные сами отсеятся при слиянии таблиц но сам факт, конечно смешной."
   ]
  },
  {
   "cell_type": "markdown",
   "id": "98a82f9f",
   "metadata": {},
   "source": [
    "И добавлю, что в идеале я бы поубирал все эти загулы, но у нас тогда, наверное, вообще очень мало данных останется. "
   ]
  },
  {
   "cell_type": "markdown",
   "id": "c8e1b7b6",
   "metadata": {},
   "source": [
    "# Дообработка данных"
   ]
  },
  {
   "cell_type": "markdown",
   "id": "0e6e2948",
   "metadata": {},
   "source": [
    "## Температура плавления"
   ]
  },
  {
   "cell_type": "code",
   "execution_count": null,
   "id": "f482e5ab",
   "metadata": {
    "scrolled": false
   },
   "outputs": [],
   "source": [
    "plt.figure(figsize=(8, 6))\n",
    "plt.hist(temp['Температура'], bins=20, color='orange', edgecolor='black', alpha=0.7)\n",
    "\n",
    "plt.xlabel('температура')\n",
    "plt.ylabel('Частота')\n",
    "plt.title('Обзор замеров температур')\n",
    "plt.grid(True, linestyle='--', alpha=0.5)\n",
    "plt.show()"
   ]
  },
  {
   "cell_type": "markdown",
   "id": "8216b01f",
   "metadata": {},
   "source": [
    "Видимо, у нас есть выбросы и они довольно серьезные. Хочу отметить, что температура плавления стали начинается от 1350 градусов и это для самых легковыплавляемых сплавов. Значит, все замеры/партии, где температура ниже этой границы - выбросы. "
   ]
  },
  {
   "cell_type": "code",
   "execution_count": null,
   "id": "4289a3de",
   "metadata": {},
   "outputs": [],
   "source": [
    "print(temp[temp['Температура']<1350])"
   ]
  },
  {
   "cell_type": "code",
   "execution_count": null,
   "id": "29e30d4f",
   "metadata": {},
   "outputs": [],
   "source": [
    "print(temp[temp['key'].isin([867, 1214,1619, 2052, 2561])])"
   ]
  },
  {
   "cell_type": "code",
   "execution_count": null,
   "id": "ed63eaa9",
   "metadata": {},
   "outputs": [],
   "source": [
    "print(arc[arc['key']==867])"
   ]
  },
  {
   "cell_type": "markdown",
   "id": "c8a4bd1d",
   "metadata": {},
   "source": [
    "Да, полный бред. Даже если бы я в теории поверил, что в ковш засыпали какие-нибуль металические штуки, чтобы расплавить, что противоречит описанию технологического процесса, невозможно за 3 минутки 100 тонн металла расплавить и нагреть на 400 градусов. \n",
    "\n",
    "Поздравляю, мы нашли еще немного лютых выбросов. "
   ]
  },
  {
   "cell_type": "code",
   "execution_count": null,
   "id": "35d1e5b6",
   "metadata": {},
   "outputs": [],
   "source": [
    "invalid_keys = [867, 1214,1619, 2052, 2561]"
   ]
  },
  {
   "cell_type": "markdown",
   "id": "23dde1ef",
   "metadata": {},
   "source": [
    "И температура плавления приносит грифиндору 0.2 градуса на валидационной выборке и 0.6 градуса на тестовой выборке."
   ]
  },
  {
   "cell_type": "markdown",
   "id": "841fa4ae",
   "metadata": {},
   "source": [
    "## Время остывания"
   ]
  },
  {
   "cell_type": "code",
   "execution_count": null,
   "id": "c93753d5",
   "metadata": {},
   "outputs": [],
   "source": [
    "check_tab= temperatures.merge(arc_grouped, left_index=True, right_index=True)"
   ]
  },
  {
   "cell_type": "code",
   "execution_count": null,
   "id": "bc134172",
   "metadata": {},
   "outputs": [],
   "source": [
    "check_tab = check_tab.merge(temperatures_time, left_index=True, right_index=True)"
   ]
  },
  {
   "cell_type": "code",
   "execution_count": null,
   "id": "c4bd0e8f",
   "metadata": {},
   "outputs": [],
   "source": [
    "display(check_tab)"
   ]
  },
  {
   "cell_type": "markdown",
   "id": "fa3af6c9",
   "metadata": {},
   "source": [
    "Как насчет того, чтобы найти коэфициент, насколько общее время обрабоки (по факту от начального замера до конечного) дольше, чем время нагревания. И на этом пространстве мы тоже найдем выбросы. "
   ]
  },
  {
   "cell_type": "code",
   "execution_count": null,
   "id": "f531a21c",
   "metadata": {},
   "outputs": [],
   "source": [
    "check_tab['prod_heat_rate'] = check_tab['total_time']/check_tab['time_heated_sec']"
   ]
  },
  {
   "cell_type": "code",
   "execution_count": null,
   "id": "cf492959",
   "metadata": {},
   "outputs": [],
   "source": [
    "display(check_tab)"
   ]
  },
  {
   "cell_type": "code",
   "execution_count": null,
   "id": "00db56db",
   "metadata": {},
   "outputs": [],
   "source": [
    "plt.figure(figsize=(8, 6))\n",
    "plt.hist(check_tab['prod_heat_rate'], bins=300, color='dodgerblue', edgecolor='black', alpha=0.7)\n",
    "\n",
    "plt.xlabel('коэффицент длительности остывания')\n",
    "plt.ylabel('Частота')\n",
    "plt.title('Отношение длительности остывания к длительности нагрева')\n",
    "plt.grid(True, linestyle='--', alpha=0.5)\n",
    "plt.show()"
   ]
  },
  {
   "cell_type": "markdown",
   "id": "a3c5680d",
   "metadata": {},
   "source": [
    "Ничего такого, чего мы не ожидали. А почему ожидали? - да потому, что знали про пересменки и ночевки... Вопрос в другом, как нам лучше определить границу, после которой данные будут считаться выбросами. Если честно, я бы воспользовался правилом 3 сигм, чтобы опираться на какую-нибудь статистику, нежели на \"экспертное мнение\""
   ]
  },
  {
   "cell_type": "markdown",
   "id": "fee04b94",
   "metadata": {},
   "source": [
    "Но если подумать, то это немного неправильно. У нас тут распределение со скосом вправо, а в таких распределениях находятся несколько иначе. Предлагаю воспользоваться межквартальным размахом. \n",
    "\n",
    "IQR = Q3-Q1\n",
    "\n",
    "Верхняя граница выбросов = Q3 + 3 * IQR"
   ]
  },
  {
   "cell_type": "code",
   "execution_count": null,
   "id": "8851940b",
   "metadata": {},
   "outputs": [],
   "source": [
    "print(check_tab['prod_heat_rate'].describe())"
   ]
  },
  {
   "cell_type": "code",
   "execution_count": null,
   "id": "499b7aa8",
   "metadata": {},
   "outputs": [],
   "source": [
    "q1 = 1.987030\n",
    "q3 = 3.538012"
   ]
  },
  {
   "cell_type": "code",
   "execution_count": null,
   "id": "861a0124",
   "metadata": {},
   "outputs": [],
   "source": [
    "iqr = q3 - q1"
   ]
  },
  {
   "cell_type": "code",
   "execution_count": null,
   "id": "cf2048de",
   "metadata": {},
   "outputs": [],
   "source": [
    "limit = q3 + 3*iqr\n",
    "print(limit)"
   ]
  },
  {
   "cell_type": "markdown",
   "id": "0ab66a7d",
   "metadata": {},
   "source": [
    "так-то это уж как-то совсем мало и значительно меньше, чем мне казалось, вручную я бы ни за что меньше 10 не поставил. С другой стороны кто я такой, чтобы спорить со статистикой (я и так увеличил кэф IQR с 1,5 до 3, что, конечно, же допустимо), так что раз уже решил делать по уму, то так тому и быть. "
   ]
  },
  {
   "cell_type": "code",
   "execution_count": null,
   "id": "77932e2c",
   "metadata": {},
   "outputs": [],
   "source": [
    "print(check_tab[check_tab['prod_heat_rate']>limit])"
   ]
  },
  {
   "cell_type": "markdown",
   "id": "68d07e74",
   "metadata": {},
   "source": [
    "еще 95 выбросов. Часть из них, конечно, придестя на уже отброшенные значения. Но вообще интересно, что же у нас останется. В результате самых элементарных преобразований оставалось 2324, вроде"
   ]
  },
  {
   "cell_type": "code",
   "execution_count": null,
   "id": "fb68233e",
   "metadata": {},
   "outputs": [],
   "source": [
    "invalids2 = check_tab[check_tab['prod_heat_rate']>limit].copy()"
   ]
  },
  {
   "cell_type": "code",
   "execution_count": null,
   "id": "0c4f7c66",
   "metadata": {},
   "outputs": [],
   "source": [
    "invalid_keys2 = invalids2.index"
   ]
  },
  {
   "cell_type": "code",
   "execution_count": null,
   "id": "e268b271",
   "metadata": {},
   "outputs": [],
   "source": [
    "print(invalid_keys2)"
   ]
  },
  {
   "cell_type": "markdown",
   "id": "8621b590",
   "metadata": {},
   "source": [
    " # Создание агрегированной таблицы признаков"
   ]
  },
  {
   "cell_type": "code",
   "execution_count": null,
   "id": "b53c0cdd",
   "metadata": {},
   "outputs": [],
   "source": [
    "final_tab = temperatures[~temperatures.index.isin(temp_nuns['key'])].copy()"
   ]
  },
  {
   "cell_type": "code",
   "execution_count": null,
   "id": "63348f24",
   "metadata": {},
   "outputs": [],
   "source": [
    "final_tab = final_tab[~final_tab.index.isin(invalid_keys)]"
   ]
  },
  {
   "cell_type": "code",
   "execution_count": null,
   "id": "926d59a7",
   "metadata": {},
   "outputs": [],
   "source": [
    "final_tab = final_tab[~final_tab.index.isin(invalid_keys2)]"
   ]
  },
  {
   "cell_type": "code",
   "execution_count": null,
   "id": "43d6721f",
   "metadata": {
    "scrolled": true
   },
   "outputs": [],
   "source": [
    "print(final_tab)"
   ]
  },
  {
   "cell_type": "code",
   "execution_count": null,
   "id": "7f099c6d",
   "metadata": {},
   "outputs": [],
   "source": [
    "try:\n",
    "    print(final_tab.loc[867])\n",
    "except KeyError:\n",
    "    print(\"нет такого ключа\")"
   ]
  },
  {
   "cell_type": "code",
   "execution_count": null,
   "id": "893f25a2",
   "metadata": {},
   "outputs": [],
   "source": [
    "final_tab = final_tab.merge(arc_grouped, left_index=True, right_index=True)"
   ]
  },
  {
   "cell_type": "code",
   "execution_count": null,
   "id": "9f094db1",
   "metadata": {},
   "outputs": [],
   "source": [
    "print(final_tab)"
   ]
  },
  {
   "cell_type": "code",
   "execution_count": null,
   "id": "d364f1aa",
   "metadata": {},
   "outputs": [],
   "source": [
    "final_tab = final_tab.merge(gas, left_index=True, right_on='key')"
   ]
  },
  {
   "cell_type": "code",
   "execution_count": null,
   "id": "cbe7d9be",
   "metadata": {},
   "outputs": [],
   "source": [
    "display(final_tab)"
   ]
  },
  {
   "cell_type": "markdown",
   "id": "a6bd7bc1",
   "metadata": {},
   "source": [
    "Вот тут у нас случился интересный момент, который хочу отметить (поскольку пришлось фиксить) - с последнем мерджем у нас дропнулись индексы и теперь мы уже объединяем все таблицы по колонке 'key'"
   ]
  },
  {
   "cell_type": "code",
   "execution_count": null,
   "id": "a0f01895",
   "metadata": {},
   "outputs": [],
   "source": [
    "final_tab = final_tab.merge(bulk, left_on='key', right_on='key')"
   ]
  },
  {
   "cell_type": "code",
   "execution_count": null,
   "id": "d0a3878f",
   "metadata": {},
   "outputs": [],
   "source": [
    "display(final_tab)"
   ]
  },
  {
   "cell_type": "code",
   "execution_count": null,
   "id": "06a397e5",
   "metadata": {
    "scrolled": true
   },
   "outputs": [],
   "source": [
    "final_tab = final_tab.merge(wire, left_on='key', right_on='key')"
   ]
  },
  {
   "cell_type": "code",
   "execution_count": null,
   "id": "4de541c4",
   "metadata": {
    "scrolled": true
   },
   "outputs": [],
   "source": [
    "display(final_tab)"
   ]
  },
  {
   "cell_type": "code",
   "execution_count": null,
   "id": "7ccd487c",
   "metadata": {},
   "outputs": [],
   "source": [
    "final_tab = final_tab.merge(temperatures_time, left_on='key', right_index=True)\n",
    "display(final_tab)"
   ]
  },
  {
   "cell_type": "code",
   "execution_count": null,
   "id": "d59e042a",
   "metadata": {
    "scrolled": true
   },
   "outputs": [],
   "source": [
    "final_tab.set_index('key', inplace=True)"
   ]
  },
  {
   "cell_type": "code",
   "execution_count": null,
   "id": "4c73ccd6",
   "metadata": {
    "scrolled": true
   },
   "outputs": [],
   "source": [
    "display(final_tab)"
   ]
  },
  {
   "cell_type": "code",
   "execution_count": null,
   "id": "5dd1f2ee",
   "metadata": {},
   "outputs": [],
   "source": [
    "final_tab['cooling_time'] = final_tab['total_time'] - final_tab['time_heated_sec']\n",
    "final_tab = final_tab.drop('total_time', axis=1)"
   ]
  },
  {
   "cell_type": "code",
   "execution_count": null,
   "id": "2c95b991",
   "metadata": {},
   "outputs": [],
   "source": [
    "final_tab.fillna(0, inplace=True)"
   ]
  },
  {
   "cell_type": "code",
   "execution_count": null,
   "id": "c95a2634",
   "metadata": {
    "scrolled": true
   },
   "outputs": [],
   "source": [
    "display(final_tab)"
   ]
  },
  {
   "cell_type": "markdown",
   "id": "6c46f1c3",
   "metadata": {},
   "source": [
    "У нас получилась отличная, на мой взгляд, таблица признаков, давайте же скорее посмотрим, как модель сможет по нашим признакам рассчитать температуру."
   ]
  },
  {
   "cell_type": "code",
   "execution_count": null,
   "id": "404c3bd0",
   "metadata": {},
   "outputs": [],
   "source": [
    "correlation_matrix = final_tab.corr()"
   ]
  },
  {
   "cell_type": "code",
   "execution_count": null,
   "id": "ba60b99c",
   "metadata": {
    "scrolled": false
   },
   "outputs": [],
   "source": [
    "f, ax = plt.subplots(figsize=(25, 20))\n",
    "cmap = sns.diverging_palette(170, 130, as_cmap=True)\n",
    "ax = sns.heatmap(correlation_matrix, cmap=cmap, annot=True, vmax=1, vmin=0, center=0, linewidths=0, xticklabels=True, yticklabels=True)\n",
    "plt.title('heatmap - матрица корреляций', fontsize=25)\n",
    "plt.show()\n"
   ]
  },
  {
   "cell_type": "markdown",
   "id": "18f4622f",
   "metadata": {},
   "source": [
    "Если изучить кореляцию  между признаками, у нас есть 3 очень сильно коррелирующих параметра: время нагрева, общая мощность, всего энергозатраты. Оно и понятно, поскольку энергозатраты = время * мощность. Тем не менее все корреляции внутри нашей итоговой таблицы меньше 0.9, поэтому удалять мы ничего не будем. "
   ]
  },
  {
   "cell_type": "markdown",
   "id": "ccd412d0",
   "metadata": {},
   "source": [
    "В каком-то смысле у нас есть мультиколинеарность Шредингера - в зависимости от того, какой трэшхолд поставить, она либо есть либо нет) Однако сейчас, после того как был озвучен порог в 0.9, подгонять трэшхолд под результат, чтобы что-то удалить, было бы уже неправильно."
   ]
  },
  {
   "cell_type": "markdown",
   "id": "1fb8435f",
   "metadata": {},
   "source": [
    "Еще один вопрос здесь в другом - у нас есть факторы, которые очень слабо коррелируют с целевым показателем. Да, зависимости бывают и нелинейными, и на основе одних коэффициентов корреляции удалять признаки мы не будем (к тому же модель все сама откалибрует), но хотя бы присмотреться стоит. В основном это значения большинства показателй bulk и wire."
   ]
  },
  {
   "cell_type": "code",
   "execution_count": null,
   "id": "4cc120b5",
   "metadata": {},
   "outputs": [],
   "source": [
    "final_tab = final_tab.drop(['Wire 3', 'Bulk 10', 'Bulk 5', 'Wire 6', 'Bulk 2', 'Wire 9', 'Bulk 9',\n",
    "       'Bulk 13', 'Wire 8', 'Wire 5', 'Bulk 8'], axis=1)"
   ]
  },
  {
   "cell_type": "code",
   "execution_count": null,
   "id": "12cdb210",
   "metadata": {},
   "outputs": [],
   "source": [
    "display(final_tab)"
   ]
  },
  {
   "cell_type": "markdown",
   "id": "3bc6befc",
   "metadata": {},
   "source": [
    "# Создание моделей"
   ]
  },
  {
   "cell_type": "markdown",
   "id": "eba5c0c2",
   "metadata": {},
   "source": [
    "## Регрессия"
   ]
  },
  {
   "cell_type": "code",
   "execution_count": null,
   "id": "5e6f2346",
   "metadata": {},
   "outputs": [],
   "source": [
    "y = final_tab['end_temp']\n",
    "x = final_tab.drop('end_temp', axis=1)"
   ]
  },
  {
   "cell_type": "code",
   "execution_count": null,
   "id": "3d7387a0",
   "metadata": {},
   "outputs": [],
   "source": [
    "x_train, x_test, y_train, y_test = train_test_split(\n",
    "    x, y, test_size=0.2, random_state=RANDOM_STATE)"
   ]
  },
  {
   "cell_type": "code",
   "execution_count": null,
   "id": "82a52bff",
   "metadata": {},
   "outputs": [],
   "source": [
    "print(x_train.shape, y_train.shape)"
   ]
  },
  {
   "cell_type": "raw",
   "id": "ac2fe856",
   "metadata": {},
   "source": [
    "   для лбой модели такая конструкция подойдёт (только лучше RandomizedSearchCV - он быстрее):\n",
    "   grid = GridSearchCV(clf, parametrs, scoring = 'neg_mean_absolute_error', cv=5)\n",
    "   grid.fit(feature, target)\n",
    "   print(f'Лучшие параметры модели: ', grid.best_params_)\n",
    "   print(f'метрика: ', grid.best_score_)"
   ]
  },
  {
   "cell_type": "markdown",
   "id": "9bf2e206",
   "metadata": {},
   "source": [
    "теперь давайте наконец-то проверим модель линейной регрессии. "
   ]
  },
  {
   "cell_type": "code",
   "execution_count": null,
   "id": "e1d46557",
   "metadata": {},
   "outputs": [],
   "source": [
    "model = LinearRegression()\n",
    "\n",
    "scores = cross_val_score(model, x_train, y_train, scoring='neg_mean_absolute_error', cv=5)\n",
    "mae_scores = -scores\n",
    "average_mae = mae_scores.mean()\n",
    "\n",
    "print(\"Cross-Validation MAE scores:\", mae_scores)\n",
    "print(\"Average MAE:\", average_mae)"
   ]
  },
  {
   "cell_type": "markdown",
   "id": "487db502",
   "metadata": {},
   "source": [
    "Давай взглянем на коэффициенты"
   ]
  },
  {
   "cell_type": "code",
   "execution_count": null,
   "id": "b8a8984e",
   "metadata": {
    "scrolled": true
   },
   "outputs": [],
   "source": [
    "model.fit(x_train, y_train)\n",
    "print(\"Coefficients:\", model.coef_)\n",
    "print(\"Intercept:\", model.intercept_)"
   ]
  },
  {
   "cell_type": "code",
   "execution_count": null,
   "id": "ce336222",
   "metadata": {},
   "outputs": [],
   "source": [
    "columns = x.columns"
   ]
  },
  {
   "cell_type": "code",
   "execution_count": null,
   "id": "af909682",
   "metadata": {},
   "outputs": [],
   "source": [
    "coeffs = pd.DataFrame({'feats': columns, 'coef': model.coef_})\n",
    "print(coeffs.sort_values(by = 'coef', ascending = False))"
   ]
  },
  {
   "cell_type": "markdown",
   "id": "d19de5db",
   "metadata": {},
   "source": [
    "И тут настал момент, когда я прозрел и понял, что коэффициенты ни чета важности факторов, поскольку они не определяют саму важность факторов, а также коэффициент зависит от значений параметров, что делает сортировку по коэффициенту по сути бесполезной. Так что нам остается только выяснять все на древесных моделях. "
   ]
  },
  {
   "cell_type": "markdown",
   "id": "2fff3fb2",
   "metadata": {},
   "source": [
    "Кстати, у нашего злополучного Wire 5 коэффициент аж 1.676437e-14 :)"
   ]
  },
  {
   "cell_type": "markdown",
   "id": "c3802884",
   "metadata": {},
   "source": [
    "## Случайный лес"
   ]
  },
  {
   "cell_type": "code",
   "execution_count": null,
   "id": "b3f83ec5",
   "metadata": {},
   "outputs": [],
   "source": [
    "%%time\n",
    "param_grid = {\n",
    "    'n_estimators': [30, 50, 100, 200],\n",
    "    'max_depth': [5, 10, 15, 20],\n",
    "    'min_samples_split': [2, 5, 8, 10],\n",
    "    'min_samples_leaf': [1, 2, 4, 5]\n",
    "}\n",
    "\n",
    "rf_model = RandomForestRegressor()\n",
    "\n",
    "random_search = RandomizedSearchCV(rf_model, param_distributions=param_grid, n_iter=10,\n",
    "                                   cv=5, scoring='neg_mean_absolute_error')\n",
    "\n",
    "random_search.fit(x_train, y_train)\n",
    "\n",
    "best_model = random_search.best_estimator_\n",
    "best_params = random_search.best_params_\n",
    "\n",
    "print(best_params)"
   ]
  },
  {
   "cell_type": "code",
   "execution_count": null,
   "id": "792c30dd",
   "metadata": {
    "scrolled": true
   },
   "outputs": [],
   "source": [
    "cv_scores = cross_val_score(best_model, x_train, y_train, cv=5, scoring='neg_mean_absolute_error')\n",
    "cv_scores = -cv_scores\n",
    "mean_cv_score = cv_scores.mean()\n",
    "print(cv_scores)\n",
    "print(\"Average MAE:\", mean_cv_score)"
   ]
  },
  {
   "cell_type": "code",
   "execution_count": null,
   "id": "d3d48e43",
   "metadata": {},
   "outputs": [],
   "source": [
    "rf_model = RandomForestRegressor(n_estimators= 200, min_samples_split= 2,\n",
    "                                 min_samples_leaf= 2, max_depth= 15)\n",
    "rf_model.fit(x_train, y_train)"
   ]
  },
  {
   "cell_type": "code",
   "execution_count": null,
   "id": "7f37bc33",
   "metadata": {},
   "outputs": [],
   "source": [
    "importances = rf_model.feature_importances_\n",
    "\n",
    "features = x.columns\n",
    "for feature, importance in zip(features, importances):\n",
    "    print(feature, importance)"
   ]
  },
  {
   "cell_type": "code",
   "execution_count": null,
   "id": "86bfcf2c",
   "metadata": {},
   "outputs": [],
   "source": [
    "sorted_indices = np.argsort(importances)[::-1]\n",
    "sorted_importances = importances[sorted_indices]\n",
    "\n",
    "cumulative_importances = np.cumsum(sorted_importances)"
   ]
  },
  {
   "cell_type": "code",
   "execution_count": null,
   "id": "9e56a4bd",
   "metadata": {},
   "outputs": [],
   "source": [
    "print(sorted_indices)"
   ]
  },
  {
   "cell_type": "code",
   "execution_count": null,
   "id": "ce73d81e",
   "metadata": {
    "scrolled": true
   },
   "outputs": [],
   "source": [
    "print(sorted_importances)"
   ]
  },
  {
   "cell_type": "code",
   "execution_count": null,
   "id": "a2080403",
   "metadata": {},
   "outputs": [],
   "source": [
    "print(cumulative_importances)"
   ]
  },
  {
   "cell_type": "code",
   "execution_count": null,
   "id": "06f37db3",
   "metadata": {},
   "outputs": [],
   "source": [
    "plt.plot(range(len(sorted_importances)), cumulative_importances)\n",
    "plt.xlabel('Number of Features')\n",
    "plt.ylabel('Cumulative Importance')\n",
    "plt.title('Cumulative Feature Importances')\n",
    "plt.grid(True)\n",
    "plt.show()"
   ]
  },
  {
   "cell_type": "markdown",
   "id": "5096d18d",
   "metadata": {},
   "source": [
    "Первые по важности 19/20 признаков дают 99.1%/99.5% важности всех факторов в совокупности. Так что по сути, можно убрать 10-11 значений, ничего по сути не поменятеся, как я считаю. "
   ]
  },
  {
   "cell_type": "markdown",
   "id": "0b9d747c",
   "metadata": {},
   "source": [
    "А вот и 11 самых бесполоезных значений. Следует ли их удалить!?"
   ]
  },
  {
   "cell_type": "markdown",
   "id": "ddf13a5c",
   "metadata": {},
   "source": [
    "Если мы удалим неважные фичи, как мы будем объяснять заказчику, что они неважные?) "
   ]
  },
  {
   "cell_type": "markdown",
   "id": "b3c23379",
   "metadata": {},
   "source": [
    "случайные лес дает качество хуже, чем регрессия, хотя оно тоже довольно неплохое и проходное. Теперь проверим модель lightgbm, в нее я верю еще больше."
   ]
  },
  {
   "cell_type": "markdown",
   "id": "a0e18c68",
   "metadata": {},
   "source": [
    "## Модель LightGBM"
   ]
  },
  {
   "cell_type": "code",
   "execution_count": null,
   "id": "9d606ebc",
   "metadata": {},
   "outputs": [],
   "source": [
    "feature_names = final_tab.columns"
   ]
  },
  {
   "cell_type": "code",
   "execution_count": null,
   "id": "f9645d5d",
   "metadata": {},
   "outputs": [],
   "source": [
    "print(feature_names)"
   ]
  },
  {
   "cell_type": "code",
   "execution_count": null,
   "id": "e2e24b31",
   "metadata": {},
   "outputs": [],
   "source": [
    "train_data = lgb.Dataset(x_train, label=y_train)\n",
    "test_data = lgb.Dataset(x_test, label=y_test)"
   ]
  },
  {
   "cell_type": "code",
   "execution_count": null,
   "id": "35dfc2e8",
   "metadata": {
    "scrolled": false
   },
   "outputs": [],
   "source": [
    "display(test_data)"
   ]
  },
  {
   "cell_type": "code",
   "execution_count": null,
   "id": "99bbb377",
   "metadata": {},
   "outputs": [],
   "source": [
    "param_grid2 = {\n",
    "    'boosting_type': ['gbdt', 'dart', 'goss'],\n",
    "    'learning_rate': [0.1, 0.05, 0.01],\n",
    "    'max_depth': [3, 5, 7, 9],\n",
    "    'num_leaves': [16, 31, 63, 127],\n",
    "    'num_boost_round': [100, 300, 500, 1000],\n",
    "    'early_stopping_rounds': [20, 50, 100]\n",
    "}"
   ]
  },
  {
   "cell_type": "code",
   "execution_count": null,
   "id": "0f6bd850",
   "metadata": {},
   "outputs": [],
   "source": [
    "%%time\n",
    "lgb_model = lgb.LGBMRegressor()\n",
    "\n",
    "random_search2 = RandomizedSearchCV(lgb_model, param_distributions=param_grid, n_iter=10, scoring='neg_mean_absolute_error', cv=5)\n",
    "\n",
    "random_search2.fit(x_train, y_train)\n",
    "\n",
    "best_model2 = random_search2.best_estimator_\n",
    "best_score2 = random_search2.best_score_\n",
    "best_params2 = random_search2.best_params_\n",
    "print(best_score2)\n",
    "print(best_params2)"
   ]
  },
  {
   "cell_type": "code",
   "execution_count": null,
   "id": "31c9aa0a",
   "metadata": {},
   "outputs": [],
   "source": [
    "cv_scores = cross_val_score(best_model2, x_train, y_train, scoring='neg_mean_absolute_error', cv=5)\n",
    "mean_cv_score = cv_scores.mean()\n",
    "print(cv_scores)\n",
    "print(mean_cv_score)"
   ]
  },
  {
   "cell_type": "markdown",
   "id": "58ba2516",
   "metadata": {},
   "source": [
    "## Маленькая придумка"
   ]
  },
  {
   "cell_type": "markdown",
   "id": "f59dca62",
   "metadata": {},
   "source": [
    "Да, качество еще лучше. Можем ли мы еще улучшить качество? У меня 2 идеи: поискать выбросы, потому что мы временно пропустили этот процесс и попробовать сделать свой бустинг и первым слоем сделать в нем регрессию, потому что у нас отличные линейные связи и попробовать эту регрессию немнгожечко пробустить. "
   ]
  },
  {
   "cell_type": "code",
   "execution_count": null,
   "id": "27a7d3a6",
   "metadata": {},
   "outputs": [],
   "source": [
    "base_model = LinearRegression()\n",
    "base_predictions = cross_val_predict(base_model, x_train, y_train, cv=5)\n",
    "base_mae = mean_absolute_error(y_train, base_predictions)\n",
    "\n",
    "boosting_model = GradientBoostingRegressor(loss='absolute_error', n_estimators=100, learning_rate=0.1)\n",
    "residuals = y_train - base_predictions\n",
    "boosted_predictions = cross_val_predict(boosting_model, x_train, residuals, cv=5)\n",
    "boosted_predictions = base_predictions + boosted_predictions\n",
    "boosted_mae = mean_absolute_error(y_train, boosted_predictions)\n",
    "\n",
    "print(\"Base Model MAE:\", base_mae)\n",
    "print(\"Boosted Model MAE:\", boosted_mae)"
   ]
  },
  {
   "cell_type": "markdown",
   "id": "7ca1e50c",
   "metadata": {},
   "source": [
    "Так мне больше нравится! На данный момент это лучшая модель. А теперь, когда мы убедились, что данные у нас адекватные и качественную модель построить можно и легко, я хочу вернуться в прошлое и прогнать наши данные и просеять их через сито времени подготовки. Или придумать альтернативный параметр. "
   ]
  },
  {
   "cell_type": "markdown",
   "id": "40cc9def",
   "metadata": {},
   "source": [
    "# Тестирование"
   ]
  },
  {
   "cell_type": "markdown",
   "id": "d569678b",
   "metadata": {},
   "source": [
    "Есть 2 стула : на одном тестирование на уже обученной модели, на другом надо объединить тренировочную и валидационную выборки, обучить на них новую модель с заданными гиперпараметрами и потом протестировать. (У обоих есть свои преимущества и свои недостатки, при чем зеркальные относительно друг друга) И парадокс в том, что куда бы я ни сел, меня обязательно просят пересесть. Поэтому я просто протестирую уже обученную модель, а потом пересяду, когда попросишь, потому что лично мне больше нравится обучать тестовую модель на объединенной выборке, т.к. у нас и без того данных мало. "
   ]
  },
  {
   "cell_type": "code",
   "execution_count": null,
   "id": "28835da9",
   "metadata": {},
   "outputs": [],
   "source": [
    "base_model = LinearRegression()\n",
    "base_model.fit(x_train, y_train)\n",
    "base_predictions2 = base_model.predict(x_test)\n",
    "base_mae2 = mean_absolute_error(y_test, base_predictions2)\n",
    "\n",
    "boosting_model2 = GradientBoostingRegressor(loss='absolute_error', n_estimators=100, learning_rate=0.1)\n",
    "residuals2 = y_train - base_model.predict(x_train)\n",
    "boosting_model2.fit(x_train, residuals2)\n",
    "boosted_predictions2 = base_predictions2 + boosting_model2.predict(x_test)\n",
    "\n",
    "boosted_mae2 = mean_absolute_error(y_test, boosted_predictions2)\n",
    "\n",
    "print(\"Base Model MAE:\", base_mae2)\n",
    "print(\"Boosted Model MAE:\", boosted_mae2)"
   ]
  },
  {
   "cell_type": "markdown",
   "id": "3d3a0eab",
   "metadata": {},
   "source": [
    "Хочу обратить внимание, что хотя модель регрессии изначально дала низкий результат, как непроходной по заданию, так и намного ниже, чем на валидационной выборке. Настолько большой разницы для обычной регрессии я и правда не ожидал. Объяснить все это могу только ассиметричностью распределения данных и наличием выбросов, поскольку регрессия никак не связана с валидационной выборкой в процессе обучения. "
   ]
  },
  {
   "cell_type": "markdown",
   "id": "bcd9197f",
   "metadata": {},
   "source": [
    "  # Вывод"
   ]
  },
  {
   "cell_type": "markdown",
   "id": "2d77b01d",
   "metadata": {},
   "source": [
    "Пока выводов немного, мне не очень понравился итоговый результат, даже если он и проходной, после такого результата на валидацинной выборке. Возможно, нам надо еще почитстить данные, например, убрать слишком долго остывающие партии... как вообще может сталь не застыть, если ее на ночь оставить? Возможно, есть какие-то температурные маркеры, придется это тоже изучить. Если менять random_state, может получиться совсем иная картина, но мы будем работать с тем, что имеем. Да и стоит один раз удалить несколько выбросов и выборки изменятся в корне. "
   ]
  },
  {
   "cell_type": "markdown",
   "id": "42bbc7fb",
   "metadata": {},
   "source": [
    "В общем я очень надеюсь на то, что ты посмотришь мою работу, укажешь мои ошибки и подскажешь, как улучшить мой проект так, чтобы он был достоин звания финального или выпускного."
   ]
  },
  {
   "cell_type": "markdown",
   "id": "597950db",
   "metadata": {},
   "source": [
    "## V 2.0"
   ]
  },
  {
   "cell_type": "markdown",
   "id": "e049216b",
   "metadata": {},
   "source": [
    "А вот теперь ситуация перевернулась с ног на голову. До удаления очередной партии выбросов ( раздел доработка данных) у меня был МАЕ на валидационной выборке 5.5, а на тестовой 6.55. После переработки занчение на тестовой стало 5.64, что уже не стыдно. В общем, переподгружу тетрадку, надеюсь, теперь мой проект произведет чуть более приятное впечатление. Тем не менее я еще в поисках зон роста и, надеюсь, ты мне что-нибудь еще подскажешь :)"
   ]
  },
  {
   "cell_type": "markdown",
   "id": "5cb42cb8",
   "metadata": {},
   "source": [
    "## V 3.0"
   ]
  },
  {
   "cell_type": "markdown",
   "id": "d3080249",
   "metadata": {},
   "source": [
    "На этот раз я уже совсем не обеспокоен тем, что MAE на тестовой выборке повысился, потому что это просто дело выборки. Данные все еще очень кривые, даже несмотря на то, сколько мы удалили (я бы удалил больше и обосновал почему в пункте 6.2). В подтверждение моих слов работает разброс на кросс-валидациях, который достигает полутора пунктов (примерно 25%)."
   ]
  },
  {
   "cell_type": "markdown",
   "id": "57a9f8d0",
   "metadata": {},
   "source": [
    "# Отчёт"
   ]
  },
  {
   "cell_type": "markdown",
   "id": "d4b72d23",
   "metadata": {},
   "source": [
    "## Выполнение плана"
   ]
  },
  {
   "cell_type": "markdown",
   "id": "ce829394",
   "metadata": {},
   "source": [
    "План был выполнен в полном объеме. Мы проанализировали данные под разными углами, нашли очень много неподходящих данных для нашей модели и выбросов. Затем мы создали общую таблицу признаков и целевого показателся, чтобы на основе него построить модели. Я не стал эксперементировать с регуляризаций в регрессии, зато создал на одну модель больше, чем планировал. Не стал отдельно исследовать регуляризацию, потому что после встречи в зуме я понял, что наша задача выглядит иначе, чем я представлял. "
   ]
  },
  {
   "cell_type": "markdown",
   "id": "3ce627d6",
   "metadata": {},
   "source": [
    "## Трудности"
   ]
  },
  {
   "cell_type": "markdown",
   "id": "649a9eff",
   "metadata": {},
   "source": [
    "В ходе проекта мне пришлось столкнуться с рядом трудностей. \n",
    "\n",
    "1)Пришлось осознать, как устроен процесс пороизводства и что от нас не требуется ничего связанного с экономией, только элементарное предсказание температуры. \n",
    "\n",
    "2)Мне не понравилось, как хранятся данные в таблицах bulk_time и wire_time, это затруднило (и, наверное, в моем случае загубило) создание единого таймлайна, по которому можно отследить процесс целиком. \n",
    "\n",
    "3)Трудно было определить, как поступить с данными, где время ожидания (остывания) слишком большое. Проблема, которую я тут вижу, что эти данные для нашей модели являются выбросами, потому что мы в каком-то роде прогнозируем измениения температуры в связи с нагреваними (но не остыванием). И это с одной стороны не очень хорошо, т.к. такие неэффективные процессы на нашем заводе случаются довольно регулярно, при этом у нас недостаточно данных, чтобы точнее научиться прогнозировать эти неффективные процессы. \n",
    "\n",
    "4)Для меня было непривычно оценивать важность факторов разными, я раньше этого не делал. \n",
    "\n",
    "5)Из-за большого разброса в данных качетво модели ощутимо скачет, что немного меня беспокоило, когда я получал более низкое качество модели. В итоге я начинал проверять другие random_state, чтобы успокоить себя и понять, что я делаю все правильно глобально, а качество ухудшилось потому, что какие-то объекты были удалены и это изменило тренировочную и валидационную выборки. Также помог потом переход на оценку моделей кросс-валидацией вместо валидационной выборки. \n",
    "\n",
    "Отвечая на вопрос, как я преодолевал эти трудности, ответ в каждом случае один и тот же - я тратил время на раешение возникшей проблемы. И чем больше тратил времени, тем лучше было решение."
   ]
  },
  {
   "cell_type": "markdown",
   "id": "ff62cbed",
   "metadata": {},
   "source": [
    "## Ключевые шаги"
   ]
  },
  {
   "cell_type": "markdown",
   "id": "913ecf79",
   "metadata": {},
   "source": [
    "1)Понимание процесса и конечной цели.\n",
    "\n",
    "2)Хороший и разносторонний анализ данных. Понимание не только того, какие даныне у нас есть, но и то, что они подразумевают, как их можно трансформировать, где могут быть проблемы, выбросы, слабые места. \n",
    "\n",
    "3)Важно было бы с самого начала настроить оценку модели через кросс-валидацию, чтобы получать более сблансированную оценку и более точную обратную связь при дообработке данных."
   ]
  },
  {
   "cell_type": "markdown",
   "id": "57832d9a",
   "metadata": {},
   "source": [
    "## Итоговая модель"
   ]
  },
  {
   "cell_type": "markdown",
   "id": "cb241d5f",
   "metadata": {},
   "source": [
    "Моя итоговая модель - самодельный бустинг, который начинается с линейной регрессии, а потом ошибки прогнозируются при помощи GradientBoostingRegressor из Sklearn. Сделано это было изначально ради интереса. Хороших результатов я ожидал, потому что линейная регрессия сама по себе дала очень хороший результат по сравнению с \"древесными\" моделями. Итоговая метрика MAE на тестовой выборке равна 5.896. Показатель мог быть выше, но, как я уже объяснял, из-за разброса в данных и небольшого количетва этих самых данных итоговый показатель будет варьироваться примерно от 5.5 до 6.2 в зависимости от изначально заданного RANDOM_STATE и/или изменения выборки любым другим способом."
   ]
  },
  {
   "cell_type": "markdown",
   "id": "884fff8c",
   "metadata": {},
   "source": [
    "## Параметры"
   ]
  },
  {
   "cell_type": "markdown",
   "id": "a4baa598",
   "metadata": {},
   "source": [
    "Парметры, которые я создал и стали основными: стартовая температура, время нагревания, время остывания, общие энергозатраты. Они и еще те параметры, которые были изначально, а именно легирующие добавки, газ  и провода участвуют в модели предсказааний. При этом 9-10 параметров добавок и проволоки мы можем убрать без потери качества. Также один параметр можно удалять как из-за мультиколинеарности, так и из-за бесполезности на выбор.\n",
    "\n",
    "Что касается предобработки по созданным признакам, были убраны все партии, где температура ниже температуры плавления стали. Также были удалены все партии со слишком высоким коэффиицентом соотношения общего времени производства ко времени нагревания, так как это означает, что продукт слишком долго остывал в котле по несвязанным с производством причинам. "
   ]
  },
  {
   "cell_type": "markdown",
   "id": "f538b940",
   "metadata": {},
   "source": [
    "##  Гиперпараметры"
   ]
  },
  {
   "cell_type": "markdown",
   "id": "1c50aba6",
   "metadata": {},
   "source": [
    "Гиперпараметров у регрессии нет, но есть у бустинга, при помщи которого мы предсказываем ошибки, они следующие : loss='absolute_error', n_estimators=100, learning_rate=0.1. У нас не было необходимости слишком сильно бустить модель на довольно скудных данных, чтобы избежать переобучения. "
   ]
  },
  {
   "cell_type": "markdown",
   "id": "b23c3425",
   "metadata": {},
   "source": [
    "## Улучшение модели"
   ]
  },
  {
   "cell_type": "markdown",
   "id": "5b0ddca5",
   "metadata": {},
   "source": [
    "Улучшить модель можно с помощью:\n",
    "\n",
    "1) увеличения количества данных. \n",
    "\n",
    "2) Получения более детальных отчетов по конкертным партиям от заказчика - нам надо лучше разобраться со слишком долгими остываниями. \n",
    "\n",
    "3) В теории можно было бы попробовать научиться предсказывать температуру за меньший период, чем партия, например, за каждое отдельное нагревание, остывание, перемешивание и т.д. для этого нам бы, возможно, понадобилось больше замеров температуры. Но это долгий и сложный процес, который может и не дать желаемого результата. Вопрос, есть ли у нас на это время и ресурсы. "
   ]
  },
  {
   "cell_type": "code",
   "execution_count": null,
   "id": "06699a02",
   "metadata": {},
   "outputs": [],
   "source": []
  }
 ],
 "metadata": {
  "ExecuteTimeLog": [
   {
    "duration": 1105,
    "start_time": "2023-05-24T19:17:01.156Z"
   },
   {
    "duration": 103,
    "start_time": "2023-05-24T19:19:03.129Z"
   },
   {
    "duration": 9,
    "start_time": "2023-05-24T19:19:03.526Z"
   },
   {
    "duration": 191,
    "start_time": "2023-05-24T19:19:49.395Z"
   },
   {
    "duration": 183,
    "start_time": "2023-05-24T19:20:00.108Z"
   },
   {
    "duration": 15,
    "start_time": "2023-05-24T19:20:14.991Z"
   },
   {
    "duration": 21,
    "start_time": "2023-05-24T19:20:21.219Z"
   },
   {
    "duration": 17,
    "start_time": "2023-05-24T19:20:31.255Z"
   },
   {
    "duration": 9,
    "start_time": "2023-05-24T19:20:36.560Z"
   },
   {
    "duration": 12,
    "start_time": "2023-05-24T19:20:39.859Z"
   },
   {
    "duration": 15,
    "start_time": "2023-05-24T19:20:42.876Z"
   },
   {
    "duration": 17,
    "start_time": "2023-05-24T19:20:49.428Z"
   },
   {
    "duration": 1160,
    "start_time": "2023-05-25T10:33:09.840Z"
   },
   {
    "duration": 2,
    "start_time": "2023-05-25T10:33:11.002Z"
   },
   {
    "duration": 3,
    "start_time": "2023-05-25T10:33:14.426Z"
   },
   {
    "duration": 96,
    "start_time": "2023-05-25T10:33:15.168Z"
   },
   {
    "duration": 182,
    "start_time": "2023-05-25T10:33:27.770Z"
   },
   {
    "duration": 16,
    "start_time": "2023-05-25T10:33:37.529Z"
   },
   {
    "duration": 30,
    "start_time": "2023-05-25T10:33:44.703Z"
   },
   {
    "duration": 1575,
    "start_time": "2023-05-25T10:33:45.574Z"
   },
   {
    "duration": 18,
    "start_time": "2023-05-25T10:33:52.276Z"
   },
   {
    "duration": 2,
    "start_time": "2023-05-25T10:33:52.847Z"
   },
   {
    "duration": 2,
    "start_time": "2023-05-25T10:33:54.319Z"
   },
   {
    "duration": 10,
    "start_time": "2023-05-25T10:33:58.462Z"
   },
   {
    "duration": 180,
    "start_time": "2023-05-25T10:34:00.930Z"
   },
   {
    "duration": 13,
    "start_time": "2023-05-25T10:34:06.948Z"
   },
   {
    "duration": 15,
    "start_time": "2023-05-25T10:34:10.029Z"
   },
   {
    "duration": 1241,
    "start_time": "2023-05-29T11:18:11.310Z"
   },
   {
    "duration": 1838,
    "start_time": "2023-05-29T11:18:12.554Z"
   },
   {
    "duration": 4,
    "start_time": "2023-05-29T11:18:14.394Z"
   },
   {
    "duration": 5,
    "start_time": "2023-05-29T11:18:15.886Z"
   },
   {
    "duration": 171,
    "start_time": "2023-05-29T11:18:16.109Z"
   },
   {
    "duration": 203,
    "start_time": "2023-05-29T11:18:16.474Z"
   },
   {
    "duration": 20,
    "start_time": "2023-05-29T11:18:31.494Z"
   },
   {
    "duration": 40,
    "start_time": "2023-05-29T11:18:46.118Z"
   },
   {
    "duration": 2009,
    "start_time": "2023-05-29T11:18:47.128Z"
   },
   {
    "duration": 25,
    "start_time": "2023-05-29T11:18:56.890Z"
   },
   {
    "duration": 3,
    "start_time": "2023-05-29T11:19:00.773Z"
   },
   {
    "duration": 3,
    "start_time": "2023-05-29T11:19:02.074Z"
   },
   {
    "duration": 10,
    "start_time": "2023-05-29T11:19:05.974Z"
   },
   {
    "duration": 217,
    "start_time": "2023-05-29T11:19:06.603Z"
   },
   {
    "duration": 15,
    "start_time": "2023-05-29T11:19:10.686Z"
   },
   {
    "duration": 16,
    "start_time": "2023-05-29T11:19:14.072Z"
   },
   {
    "duration": 1166,
    "start_time": "2023-05-29T11:19:16.316Z"
   },
   {
    "duration": 15,
    "start_time": "2023-05-29T11:19:20.993Z"
   },
   {
    "duration": 16,
    "start_time": "2023-05-29T11:19:30.841Z"
   },
   {
    "duration": 28,
    "start_time": "2023-05-29T11:19:31.908Z"
   },
   {
    "duration": 6,
    "start_time": "2023-05-29T11:19:48.370Z"
   },
   {
    "duration": 6,
    "start_time": "2023-05-29T11:19:52.781Z"
   },
   {
    "duration": 7,
    "start_time": "2023-05-29T11:19:53.214Z"
   },
   {
    "duration": 4,
    "start_time": "2023-05-29T11:19:53.717Z"
   },
   {
    "duration": 7,
    "start_time": "2023-05-29T11:19:54.578Z"
   },
   {
    "duration": 154,
    "start_time": "2023-05-29T11:19:55.205Z"
   },
   {
    "duration": 13,
    "start_time": "2023-05-29T11:19:56.124Z"
   },
   {
    "duration": 6,
    "start_time": "2023-05-29T11:19:56.773Z"
   },
   {
    "duration": 6,
    "start_time": "2023-05-29T11:19:57.740Z"
   },
   {
    "duration": 6,
    "start_time": "2023-05-29T11:19:58.381Z"
   },
   {
    "duration": 225,
    "start_time": "2023-05-29T11:19:59.373Z"
   },
   {
    "duration": 2,
    "start_time": "2023-05-29T11:20:00.798Z"
   },
   {
    "duration": 9,
    "start_time": "2023-05-29T11:20:01.729Z"
   },
   {
    "duration": 5,
    "start_time": "2023-05-29T11:20:01.974Z"
   },
   {
    "duration": 3,
    "start_time": "2023-05-29T11:20:02.397Z"
   },
   {
    "duration": 8,
    "start_time": "2023-05-29T11:20:02.673Z"
   },
   {
    "duration": 7,
    "start_time": "2023-05-29T11:20:02.877Z"
   },
   {
    "duration": 14,
    "start_time": "2023-05-29T11:20:03.098Z"
   },
   {
    "duration": 6,
    "start_time": "2023-05-29T11:20:03.573Z"
   },
   {
    "duration": 5,
    "start_time": "2023-05-29T11:20:03.765Z"
   },
   {
    "duration": 11,
    "start_time": "2023-05-29T11:20:04.173Z"
   },
   {
    "duration": 5,
    "start_time": "2023-05-29T11:20:04.670Z"
   },
   {
    "duration": 5,
    "start_time": "2023-05-29T11:20:05.238Z"
   },
   {
    "duration": 5,
    "start_time": "2023-05-29T11:20:05.444Z"
   },
   {
    "duration": 5,
    "start_time": "2023-05-29T11:20:05.645Z"
   },
   {
    "duration": 3,
    "start_time": "2023-05-29T11:20:06.273Z"
   },
   {
    "duration": 2,
    "start_time": "2023-05-29T11:20:15.177Z"
   },
   {
    "duration": 2,
    "start_time": "2023-05-29T11:20:15.809Z"
   },
   {
    "duration": 5,
    "start_time": "2023-05-29T11:20:16.019Z"
   },
   {
    "duration": 2,
    "start_time": "2023-05-29T11:20:26.219Z"
   },
   {
    "duration": 6,
    "start_time": "2023-05-29T11:20:30.015Z"
   },
   {
    "duration": 15,
    "start_time": "2023-05-29T11:20:30.822Z"
   },
   {
    "duration": 6,
    "start_time": "2023-05-29T11:20:31.416Z"
   },
   {
    "duration": 173,
    "start_time": "2023-05-29T11:20:32.989Z"
   },
   {
    "duration": 11,
    "start_time": "2023-05-29T11:20:33.647Z"
   },
   {
    "duration": 18,
    "start_time": "2023-05-29T11:20:34.412Z"
   },
   {
    "duration": 12,
    "start_time": "2023-05-29T11:20:35.094Z"
   },
   {
    "duration": 11,
    "start_time": "2023-05-29T11:20:36.842Z"
   },
   {
    "duration": 6,
    "start_time": "2023-05-29T11:20:37.744Z"
   },
   {
    "duration": 15,
    "start_time": "2023-05-29T11:20:39.017Z"
   },
   {
    "duration": 9,
    "start_time": "2023-05-29T11:20:39.611Z"
   },
   {
    "duration": 12,
    "start_time": "2023-05-29T11:20:41.438Z"
   },
   {
    "duration": 21,
    "start_time": "2023-05-29T11:34:12.320Z"
   },
   {
    "duration": 7,
    "start_time": "2023-05-29T11:34:16.582Z"
   },
   {
    "duration": 6,
    "start_time": "2023-05-29T11:34:17.486Z"
   },
   {
    "duration": 8,
    "start_time": "2023-05-29T11:34:21.794Z"
   },
   {
    "duration": 9,
    "start_time": "2023-05-29T11:34:28.120Z"
   },
   {
    "duration": 6,
    "start_time": "2023-05-29T11:34:28.894Z"
   },
   {
    "duration": 179,
    "start_time": "2023-05-29T11:34:30.518Z"
   },
   {
    "duration": 181,
    "start_time": "2023-05-29T11:36:27.370Z"
   },
   {
    "duration": 7,
    "start_time": "2023-05-29T11:36:29.170Z"
   },
   {
    "duration": 8,
    "start_time": "2023-05-29T11:36:36.742Z"
   },
   {
    "duration": 7,
    "start_time": "2023-05-29T11:36:37.866Z"
   },
   {
    "duration": 2,
    "start_time": "2023-05-29T11:36:39.406Z"
   },
   {
    "duration": 5,
    "start_time": "2023-05-29T11:37:44.074Z"
   },
   {
    "duration": 5,
    "start_time": "2023-05-29T11:37:44.713Z"
   },
   {
    "duration": 26,
    "start_time": "2023-05-29T11:37:45.818Z"
   },
   {
    "duration": 5,
    "start_time": "2023-05-29T11:37:54.041Z"
   },
   {
    "duration": 19,
    "start_time": "2023-05-29T11:37:54.942Z"
   },
   {
    "duration": 562,
    "start_time": "2023-05-29T11:37:55.740Z"
   },
   {
    "duration": 1331,
    "start_time": "2023-05-30T11:01:05.449Z"
   },
   {
    "duration": 5558,
    "start_time": "2023-05-30T11:01:06.783Z"
   },
   {
    "duration": 3,
    "start_time": "2023-05-30T11:01:12.342Z"
   },
   {
    "duration": 13,
    "start_time": "2023-05-30T11:01:12.347Z"
   },
   {
    "duration": 225,
    "start_time": "2023-05-30T11:01:12.362Z"
   },
   {
    "duration": 15,
    "start_time": "2023-05-30T11:01:12.589Z"
   },
   {
    "duration": 3,
    "start_time": "2023-05-30T11:01:12.605Z"
   },
   {
    "duration": 73,
    "start_time": "2023-05-30T11:01:12.610Z"
   },
   {
    "duration": 2035,
    "start_time": "2023-05-30T11:01:12.685Z"
   },
   {
    "duration": 4,
    "start_time": "2023-05-30T11:01:14.722Z"
   },
   {
    "duration": 60,
    "start_time": "2023-05-30T11:01:14.729Z"
   },
   {
    "duration": 3,
    "start_time": "2023-05-30T11:01:14.793Z"
   },
   {
    "duration": 6,
    "start_time": "2023-05-30T11:01:14.797Z"
   },
   {
    "duration": 7,
    "start_time": "2023-05-30T11:01:14.806Z"
   },
   {
    "duration": 18,
    "start_time": "2023-05-30T11:01:14.815Z"
   },
   {
    "duration": 214,
    "start_time": "2023-05-30T11:01:14.835Z"
   },
   {
    "duration": 4,
    "start_time": "2023-05-30T11:01:15.797Z"
   },
   {
    "duration": 14,
    "start_time": "2023-05-30T11:01:16.686Z"
   },
   {
    "duration": 16,
    "start_time": "2023-05-30T11:01:17.847Z"
   },
   {
    "duration": 16,
    "start_time": "2023-05-30T11:01:18.012Z"
   },
   {
    "duration": 1164,
    "start_time": "2023-05-30T11:01:18.595Z"
   },
   {
    "duration": 8,
    "start_time": "2023-05-30T11:01:19.768Z"
   },
   {
    "duration": 22,
    "start_time": "2023-05-30T11:01:19.778Z"
   },
   {
    "duration": 20,
    "start_time": "2023-05-30T11:01:20.378Z"
   },
   {
    "duration": 27,
    "start_time": "2023-05-30T11:01:20.602Z"
   },
   {
    "duration": 14,
    "start_time": "2023-05-30T11:01:22.351Z"
   },
   {
    "duration": 6,
    "start_time": "2023-05-30T11:01:22.885Z"
   },
   {
    "duration": 7,
    "start_time": "2023-05-30T11:01:23.050Z"
   },
   {
    "duration": 4,
    "start_time": "2023-05-30T11:01:23.230Z"
   },
   {
    "duration": 6,
    "start_time": "2023-05-30T11:01:23.408Z"
   },
   {
    "duration": 122,
    "start_time": "2023-05-30T11:01:23.873Z"
   },
   {
    "duration": 13,
    "start_time": "2023-05-30T11:01:24.049Z"
   },
   {
    "duration": 8,
    "start_time": "2023-05-30T11:01:24.250Z"
   },
   {
    "duration": 6,
    "start_time": "2023-05-30T11:01:24.832Z"
   },
   {
    "duration": 6,
    "start_time": "2023-05-30T11:01:25.116Z"
   },
   {
    "duration": 236,
    "start_time": "2023-05-30T11:01:25.325Z"
   },
   {
    "duration": 3,
    "start_time": "2023-05-30T11:01:25.986Z"
   },
   {
    "duration": 6,
    "start_time": "2023-05-30T11:01:26.417Z"
   },
   {
    "duration": 7,
    "start_time": "2023-05-30T11:01:27.373Z"
   },
   {
    "duration": 3,
    "start_time": "2023-05-30T11:01:27.687Z"
   },
   {
    "duration": 9,
    "start_time": "2023-05-30T11:01:27.876Z"
   },
   {
    "duration": 13,
    "start_time": "2023-05-30T11:01:28.048Z"
   },
   {
    "duration": 11,
    "start_time": "2023-05-30T11:01:28.223Z"
   },
   {
    "duration": 5,
    "start_time": "2023-05-30T11:01:28.430Z"
   },
   {
    "duration": 4,
    "start_time": "2023-05-30T11:01:28.617Z"
   },
   {
    "duration": 11,
    "start_time": "2023-05-30T11:01:29.081Z"
   },
   {
    "duration": 6,
    "start_time": "2023-05-30T11:01:29.861Z"
   },
   {
    "duration": 6,
    "start_time": "2023-05-30T11:01:30.216Z"
   },
   {
    "duration": 6,
    "start_time": "2023-05-30T11:01:30.481Z"
   },
   {
    "duration": 5,
    "start_time": "2023-05-30T11:01:30.676Z"
   },
   {
    "duration": 4,
    "start_time": "2023-05-30T11:01:31.479Z"
   },
   {
    "duration": 3,
    "start_time": "2023-05-30T11:01:35.674Z"
   },
   {
    "duration": 2,
    "start_time": "2023-05-30T11:01:35.827Z"
   },
   {
    "duration": 4,
    "start_time": "2023-05-30T11:01:35.994Z"
   },
   {
    "duration": 6,
    "start_time": "2023-05-30T11:01:36.146Z"
   },
   {
    "duration": 8,
    "start_time": "2023-05-30T11:01:36.309Z"
   },
   {
    "duration": 10,
    "start_time": "2023-05-30T11:01:36.650Z"
   },
   {
    "duration": 193,
    "start_time": "2023-05-30T11:01:37.481Z"
   },
   {
    "duration": 9,
    "start_time": "2023-05-30T11:01:37.724Z"
   },
   {
    "duration": 10,
    "start_time": "2023-05-30T11:01:38.031Z"
   },
   {
    "duration": 12,
    "start_time": "2023-05-30T11:01:38.222Z"
   },
   {
    "duration": 13,
    "start_time": "2023-05-30T11:01:38.576Z"
   },
   {
    "duration": 21,
    "start_time": "2023-05-30T11:01:38.752Z"
   },
   {
    "duration": 8,
    "start_time": "2023-05-30T11:01:38.923Z"
   },
   {
    "duration": 8,
    "start_time": "2023-05-30T11:01:39.683Z"
   },
   {
    "duration": 7,
    "start_time": "2023-05-30T11:01:39.890Z"
   },
   {
    "duration": 13,
    "start_time": "2023-05-30T11:01:41.312Z"
   },
   {
    "duration": 15,
    "start_time": "2023-05-30T11:01:43.474Z"
   },
   {
    "duration": 7,
    "start_time": "2023-05-30T11:01:43.690Z"
   },
   {
    "duration": 6,
    "start_time": "2023-05-30T11:01:43.889Z"
   },
   {
    "duration": 9,
    "start_time": "2023-05-30T11:01:44.087Z"
   },
   {
    "duration": 6,
    "start_time": "2023-05-30T11:01:44.311Z"
   },
   {
    "duration": 10,
    "start_time": "2023-05-30T11:01:44.481Z"
   },
   {
    "duration": 186,
    "start_time": "2023-05-30T11:01:44.678Z"
   },
   {
    "duration": 174,
    "start_time": "2023-05-30T11:01:47.587Z"
   },
   {
    "duration": 7,
    "start_time": "2023-05-30T11:01:48.933Z"
   },
   {
    "duration": 8,
    "start_time": "2023-05-30T11:01:49.486Z"
   },
   {
    "duration": 7,
    "start_time": "2023-05-30T11:01:49.722Z"
   },
   {
    "duration": 2,
    "start_time": "2023-05-30T11:01:51.244Z"
   },
   {
    "duration": 6,
    "start_time": "2023-05-30T11:01:52.899Z"
   },
   {
    "duration": 6,
    "start_time": "2023-05-30T11:01:53.479Z"
   },
   {
    "duration": 16,
    "start_time": "2023-05-30T11:01:53.997Z"
   },
   {
    "duration": 10,
    "start_time": "2023-05-30T11:01:54.490Z"
   },
   {
    "duration": 15,
    "start_time": "2023-05-30T11:01:54.827Z"
   },
   {
    "duration": 619,
    "start_time": "2023-05-30T11:01:55.488Z"
   },
   {
    "duration": 9,
    "start_time": "2023-05-30T11:04:37.576Z"
   },
   {
    "duration": 3,
    "start_time": "2023-05-30T11:04:38.183Z"
   },
   {
    "duration": 3,
    "start_time": "2023-05-30T11:04:38.577Z"
   },
   {
    "duration": 3,
    "start_time": "2023-05-30T11:04:38.729Z"
   },
   {
    "duration": 1420,
    "start_time": "2023-05-31T07:42:38.207Z"
   },
   {
    "duration": 336,
    "start_time": "2023-05-31T07:42:39.630Z"
   },
   {
    "duration": 2,
    "start_time": "2023-05-31T07:42:39.967Z"
   },
   {
    "duration": 7,
    "start_time": "2023-05-31T07:42:39.971Z"
   },
   {
    "duration": 578,
    "start_time": "2023-05-31T07:42:39.979Z"
   },
   {
    "duration": 20,
    "start_time": "2023-05-31T07:42:40.560Z"
   },
   {
    "duration": 4,
    "start_time": "2023-05-31T07:42:40.582Z"
   },
   {
    "duration": 48,
    "start_time": "2023-05-31T07:42:40.588Z"
   },
   {
    "duration": 1583,
    "start_time": "2023-05-31T07:42:40.637Z"
   },
   {
    "duration": 4,
    "start_time": "2023-05-31T07:42:42.225Z"
   },
   {
    "duration": 21,
    "start_time": "2023-05-31T07:42:42.231Z"
   },
   {
    "duration": 5,
    "start_time": "2023-05-31T07:42:42.254Z"
   },
   {
    "duration": 7,
    "start_time": "2023-05-31T07:42:42.260Z"
   },
   {
    "duration": 7,
    "start_time": "2023-05-31T07:42:42.269Z"
   },
   {
    "duration": 17,
    "start_time": "2023-05-31T07:42:42.277Z"
   },
   {
    "duration": 203,
    "start_time": "2023-05-31T07:42:42.296Z"
   },
   {
    "duration": 14,
    "start_time": "2023-05-31T07:42:42.501Z"
   },
   {
    "duration": 24,
    "start_time": "2023-05-31T07:42:42.517Z"
   },
   {
    "duration": 15,
    "start_time": "2023-05-31T07:42:42.543Z"
   },
   {
    "duration": 19,
    "start_time": "2023-05-31T07:42:42.560Z"
   },
   {
    "duration": 977,
    "start_time": "2023-05-31T07:42:42.581Z"
   },
   {
    "duration": 4,
    "start_time": "2023-05-31T07:42:43.561Z"
   },
   {
    "duration": 15,
    "start_time": "2023-05-31T07:42:43.566Z"
   },
   {
    "duration": 36,
    "start_time": "2023-05-31T07:42:43.583Z"
   },
   {
    "duration": 24,
    "start_time": "2023-05-31T07:42:43.622Z"
   },
   {
    "duration": 5,
    "start_time": "2023-05-31T07:42:43.648Z"
   },
   {
    "duration": 10,
    "start_time": "2023-05-31T07:42:43.655Z"
   },
   {
    "duration": 7,
    "start_time": "2023-05-31T07:42:43.806Z"
   },
   {
    "duration": 14,
    "start_time": "2023-05-31T07:42:43.823Z"
   },
   {
    "duration": 8,
    "start_time": "2023-05-31T07:42:43.839Z"
   },
   {
    "duration": 43,
    "start_time": "2023-05-31T07:42:43.849Z"
   },
   {
    "duration": 5,
    "start_time": "2023-05-31T07:42:43.894Z"
   },
   {
    "duration": 9,
    "start_time": "2023-05-31T07:42:43.901Z"
   },
   {
    "duration": 21,
    "start_time": "2023-05-31T07:42:43.911Z"
   },
   {
    "duration": 7,
    "start_time": "2023-05-31T07:42:43.934Z"
   },
   {
    "duration": 233,
    "start_time": "2023-05-31T07:42:43.943Z"
   },
   {
    "duration": 2,
    "start_time": "2023-05-31T07:42:44.178Z"
   },
   {
    "duration": 9,
    "start_time": "2023-05-31T07:42:44.181Z"
   },
   {
    "duration": 27,
    "start_time": "2023-05-31T07:42:44.192Z"
   },
   {
    "duration": 4,
    "start_time": "2023-05-31T07:42:44.229Z"
   },
   {
    "duration": 13,
    "start_time": "2023-05-31T07:42:44.235Z"
   },
   {
    "duration": 22,
    "start_time": "2023-05-31T07:42:44.250Z"
   },
   {
    "duration": 13,
    "start_time": "2023-05-31T07:42:44.274Z"
   },
   {
    "duration": 4,
    "start_time": "2023-05-31T07:42:44.289Z"
   },
   {
    "duration": 15,
    "start_time": "2023-05-31T07:42:44.295Z"
   },
   {
    "duration": 23,
    "start_time": "2023-05-31T07:42:44.314Z"
   },
   {
    "duration": 15,
    "start_time": "2023-05-31T07:42:44.339Z"
   },
   {
    "duration": 19,
    "start_time": "2023-05-31T07:42:44.356Z"
   },
   {
    "duration": 7,
    "start_time": "2023-05-31T07:42:44.377Z"
   },
   {
    "duration": 9,
    "start_time": "2023-05-31T07:42:44.386Z"
   },
   {
    "duration": 3,
    "start_time": "2023-05-31T07:42:44.396Z"
   },
   {
    "duration": 7,
    "start_time": "2023-05-31T07:42:44.401Z"
   },
   {
    "duration": 3,
    "start_time": "2023-05-31T07:42:44.410Z"
   },
   {
    "duration": 13,
    "start_time": "2023-05-31T07:42:44.415Z"
   },
   {
    "duration": 13,
    "start_time": "2023-05-31T07:42:44.430Z"
   },
   {
    "duration": 8,
    "start_time": "2023-05-31T07:42:44.445Z"
   },
   {
    "duration": 11,
    "start_time": "2023-05-31T07:42:44.454Z"
   },
   {
    "duration": 174,
    "start_time": "2023-05-31T07:42:44.467Z"
   },
   {
    "duration": 8,
    "start_time": "2023-05-31T07:42:44.643Z"
   },
   {
    "duration": 17,
    "start_time": "2023-05-31T07:42:44.652Z"
   },
   {
    "duration": 8,
    "start_time": "2023-05-31T07:42:44.671Z"
   },
   {
    "duration": 35,
    "start_time": "2023-05-31T07:42:44.681Z"
   },
   {
    "duration": 18,
    "start_time": "2023-05-31T07:42:44.719Z"
   },
   {
    "duration": 14,
    "start_time": "2023-05-31T07:42:44.739Z"
   },
   {
    "duration": 13,
    "start_time": "2023-05-31T07:42:44.754Z"
   },
   {
    "duration": 14,
    "start_time": "2023-05-31T07:42:44.769Z"
   },
   {
    "duration": 18,
    "start_time": "2023-05-31T07:42:44.785Z"
   },
   {
    "duration": 13,
    "start_time": "2023-05-31T07:42:44.805Z"
   },
   {
    "duration": 6,
    "start_time": "2023-05-31T07:42:44.820Z"
   },
   {
    "duration": 19,
    "start_time": "2023-05-31T07:42:44.828Z"
   },
   {
    "duration": 15,
    "start_time": "2023-05-31T07:42:44.848Z"
   },
   {
    "duration": 5,
    "start_time": "2023-05-31T07:42:44.865Z"
   },
   {
    "duration": 11,
    "start_time": "2023-05-31T07:42:44.871Z"
   },
   {
    "duration": 186,
    "start_time": "2023-05-31T07:42:44.883Z"
   },
   {
    "duration": 192,
    "start_time": "2023-05-31T07:42:45.071Z"
   },
   {
    "duration": 7,
    "start_time": "2023-05-31T07:42:45.265Z"
   },
   {
    "duration": 13,
    "start_time": "2023-05-31T07:42:45.273Z"
   },
   {
    "duration": 8,
    "start_time": "2023-05-31T07:42:45.287Z"
   },
   {
    "duration": 5,
    "start_time": "2023-05-31T07:42:45.308Z"
   },
   {
    "duration": 13,
    "start_time": "2023-05-31T07:42:45.318Z"
   },
   {
    "duration": 13,
    "start_time": "2023-05-31T07:42:45.333Z"
   },
   {
    "duration": 15,
    "start_time": "2023-05-31T07:42:45.352Z"
   },
   {
    "duration": 11,
    "start_time": "2023-05-31T07:42:45.368Z"
   },
   {
    "duration": 15,
    "start_time": "2023-05-31T07:42:45.380Z"
   },
   {
    "duration": 512,
    "start_time": "2023-05-31T07:42:45.414Z"
   },
   {
    "duration": 8,
    "start_time": "2023-05-31T07:42:45.928Z"
   },
   {
    "duration": 6,
    "start_time": "2023-05-31T07:42:45.937Z"
   },
   {
    "duration": 15,
    "start_time": "2023-05-31T07:42:45.944Z"
   },
   {
    "duration": 17,
    "start_time": "2023-05-31T07:42:45.960Z"
   },
   {
    "duration": 17,
    "start_time": "2023-05-31T07:42:45.978Z"
   },
   {
    "duration": 10,
    "start_time": "2023-05-31T07:42:45.997Z"
   },
   {
    "duration": 7,
    "start_time": "2023-05-31T07:42:46.009Z"
   },
   {
    "duration": 16,
    "start_time": "2023-05-31T07:42:46.018Z"
   },
   {
    "duration": 11,
    "start_time": "2023-05-31T07:42:46.036Z"
   },
   {
    "duration": 5,
    "start_time": "2023-05-31T07:42:46.048Z"
   },
   {
    "duration": 4,
    "start_time": "2023-05-31T07:42:46.054Z"
   },
   {
    "duration": 7,
    "start_time": "2023-05-31T07:42:46.060Z"
   },
   {
    "duration": 5,
    "start_time": "2023-05-31T07:42:46.068Z"
   },
   {
    "duration": 7,
    "start_time": "2023-05-31T07:42:46.075Z"
   },
   {
    "duration": 12,
    "start_time": "2023-05-31T07:42:46.084Z"
   },
   {
    "duration": 5,
    "start_time": "2023-05-31T07:42:46.107Z"
   },
   {
    "duration": 23,
    "start_time": "2023-05-31T07:42:46.117Z"
   },
   {
    "duration": 7,
    "start_time": "2023-05-31T07:42:46.143Z"
   },
   {
    "duration": 32,
    "start_time": "2023-05-31T07:42:46.152Z"
   },
   {
    "duration": 21,
    "start_time": "2023-05-31T07:42:46.186Z"
   },
   {
    "duration": 39,
    "start_time": "2023-05-31T07:42:46.209Z"
   },
   {
    "duration": 27,
    "start_time": "2023-05-31T07:42:46.250Z"
   },
   {
    "duration": 3,
    "start_time": "2023-05-31T07:42:46.278Z"
   },
   {
    "duration": 52,
    "start_time": "2023-05-31T07:42:46.283Z"
   },
   {
    "duration": 5,
    "start_time": "2023-05-31T07:42:46.336Z"
   },
   {
    "duration": 48,
    "start_time": "2023-05-31T07:42:46.342Z"
   },
   {
    "duration": 22,
    "start_time": "2023-05-31T07:42:46.393Z"
   },
   {
    "duration": 4519,
    "start_time": "2023-05-31T07:42:46.418Z"
   },
   {
    "duration": 4,
    "start_time": "2023-05-31T07:42:50.938Z"
   },
   {
    "duration": 17,
    "start_time": "2023-05-31T07:42:50.944Z"
   },
   {
    "duration": 9,
    "start_time": "2023-05-31T07:42:50.962Z"
   },
   {
    "duration": 950,
    "start_time": "2023-05-31T07:42:50.973Z"
   },
   {
    "duration": 198,
    "start_time": "2023-05-31T07:42:51.925Z"
   },
   {
    "duration": 3,
    "start_time": "2023-05-31T07:42:52.125Z"
   },
   {
    "duration": 10,
    "start_time": "2023-05-31T07:42:52.217Z"
   },
   {
    "duration": 33625,
    "start_time": "2023-05-31T07:42:52.229Z"
   },
   {
    "duration": 7421,
    "start_time": "2023-05-31T07:43:25.856Z"
   },
   {
    "duration": 2198,
    "start_time": "2023-05-31T07:43:33.279Z"
   },
   {
    "duration": 32,
    "start_time": "2023-05-31T07:43:35.479Z"
   },
   {
    "duration": 12,
    "start_time": "2023-05-31T07:43:35.514Z"
   },
   {
    "duration": 20,
    "start_time": "2023-05-31T07:43:35.528Z"
   },
   {
    "duration": 18,
    "start_time": "2023-05-31T07:43:35.550Z"
   },
   {
    "duration": 22,
    "start_time": "2023-05-31T07:43:35.569Z"
   },
   {
    "duration": 154,
    "start_time": "2023-05-31T07:43:35.593Z"
   },
   {
    "duration": 3,
    "start_time": "2023-05-31T07:43:35.749Z"
   },
   {
    "duration": 34,
    "start_time": "2023-05-31T07:43:35.753Z"
   },
   {
    "duration": 14,
    "start_time": "2023-05-31T07:43:35.788Z"
   },
   {
    "duration": 26,
    "start_time": "2023-05-31T07:43:35.803Z"
   },
   {
    "duration": 16,
    "start_time": "2023-05-31T07:43:35.830Z"
   },
   {
    "duration": 13,
    "start_time": "2023-05-31T07:43:35.848Z"
   },
   {
    "duration": 2703649,
    "start_time": "2023-05-31T07:43:35.863Z"
   },
   {
    "duration": 163111,
    "start_time": "2023-05-31T08:28:39.514Z"
   },
   {
    "duration": 2403,
    "start_time": "2023-05-31T08:31:22.627Z"
   },
   {
    "duration": 0,
    "start_time": "2023-05-31T08:31:25.032Z"
   },
   {
    "duration": 1035,
    "start_time": "2023-05-31T08:31:56.389Z"
   },
   {
    "duration": 1162,
    "start_time": "2023-05-31T08:32:11.752Z"
   },
   {
    "duration": 1333,
    "start_time": "2023-05-31T08:32:24.780Z"
   },
   {
    "duration": 4,
    "start_time": "2023-05-31T08:33:15.478Z"
   },
   {
    "duration": 1103,
    "start_time": "2023-05-31T08:33:28.332Z"
   },
   {
    "duration": 1006,
    "start_time": "2023-05-31T08:33:53.413Z"
   },
   {
    "duration": 3414,
    "start_time": "2023-05-31T08:34:24.873Z"
   },
   {
    "duration": 214,
    "start_time": "2023-05-31T08:34:40.997Z"
   },
   {
    "duration": 845,
    "start_time": "2023-05-31T08:41:52.977Z"
   },
   {
    "duration": 8,
    "start_time": "2023-05-31T09:11:19.062Z"
   },
   {
    "duration": 10,
    "start_time": "2023-05-31T09:12:01.680Z"
   },
   {
    "duration": 24,
    "start_time": "2023-05-31T09:13:07.596Z"
   },
   {
    "duration": 2,
    "start_time": "2023-05-31T09:13:31.996Z"
   },
   {
    "duration": 3,
    "start_time": "2023-05-31T09:13:34.040Z"
   },
   {
    "duration": 6,
    "start_time": "2023-05-31T09:13:38.818Z"
   },
   {
    "duration": 8,
    "start_time": "2023-05-31T09:15:13.792Z"
   },
   {
    "duration": 3,
    "start_time": "2023-05-31T09:15:23.155Z"
   },
   {
    "duration": 9,
    "start_time": "2023-05-31T09:15:46.517Z"
   }
  ],
  "kernelspec": {
   "display_name": "Python 3 (ipykernel)",
   "language": "python",
   "name": "python3"
  },
  "language_info": {
   "codemirror_mode": {
    "name": "ipython",
    "version": 3
   },
   "file_extension": ".py",
   "mimetype": "text/x-python",
   "name": "python",
   "nbconvert_exporter": "python",
   "pygments_lexer": "ipython3",
   "version": "3.8.16"
  },
  "toc": {
   "base_numbering": 1,
   "nav_menu": {},
   "number_sections": true,
   "sideBar": true,
   "skip_h1_title": false,
   "title_cell": "Table of Contents",
   "title_sidebar": "Contents",
   "toc_cell": false,
   "toc_position": {
    "height": "calc(100% - 180px)",
    "left": "10px",
    "top": "150px",
    "width": "182.578125px"
   },
   "toc_section_display": true,
   "toc_window_display": true
  }
 },
 "nbformat": 4,
 "nbformat_minor": 5
}
